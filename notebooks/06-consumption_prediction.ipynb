{
 "cells": [
  {
   "cell_type": "code",
   "execution_count": 2,
   "metadata": {},
   "outputs": [],
   "source": [
    "%load_ext autoreload\n",
    "%autoreload 2"
   ]
  },
  {
   "cell_type": "code",
   "execution_count": 3,
   "metadata": {},
   "outputs": [
    {
     "name": "stderr",
     "output_type": "stream",
     "text": [
      "Intel(R) Extension for Scikit-learn* enabled (https://github.com/intel/scikit-learn-intelex)\n"
     ]
    }
   ],
   "source": [
    "import os \n",
    "while 'notebooks' in os.getcwd():\n",
    "    os.chdir(\"..\")\n",
    "    \n",
    "from sklearnex import patch_sklearn\n",
    "patch_sklearn()\n",
    "from typing import List\n",
    "import pandas as pd\n",
    "import matplotlib.pyplot as plt\n",
    "import numpy as np\n",
    "import seaborn as sns\n",
    "import csv\n",
    "from tqdm import tqdm\n",
    "from sklearn.cluster import KMeans\n",
    "from sklearn.decomposition import PCA\n",
    "from sklearn.svm import SVR\n",
    "from scipy import stats\n",
    "from sklearn.model_selection import TimeSeriesSplit, KFold\n",
    "from sklearn.base import BaseEstimator, RegressorMixin\n",
    "from sklearn.linear_model import LinearRegression, Lasso, Ridge\n",
    "from sklearn.tree import DecisionTreeRegressor\n",
    "from sklearn.svm import SVR\n",
    "from sklearn.ensemble import RandomForestRegressor\n",
    "from sklearn.neural_network import MLPRegressor\n",
    "from sklearn.metrics import r2_score\n",
    "from IPython.display import clear_output\n",
    "import shap\n",
    "\n",
    "\n",
    "import warnings\n",
    "warnings.filterwarnings(\"ignore\")\n",
    "from src.constants import CLEANED_HOUSEHOLD_POWER_PATH, CLEANED_WEATHER_PATH, \\\n",
    "    HOUSEHOLD_WEATHER_MERGED_PATH"
   ]
  },
  {
   "cell_type": "markdown",
   "metadata": {},
   "source": [
    "## Hourly distribution"
   ]
  },
  {
   "cell_type": "code",
   "execution_count": 4,
   "metadata": {},
   "outputs": [
    {
     "data": {
      "text/html": [
       "<div>\n",
       "<style scoped>\n",
       "    .dataframe tbody tr th:only-of-type {\n",
       "        vertical-align: middle;\n",
       "    }\n",
       "\n",
       "    .dataframe tbody tr th {\n",
       "        vertical-align: top;\n",
       "    }\n",
       "\n",
       "    .dataframe thead th {\n",
       "        text-align: right;\n",
       "    }\n",
       "</style>\n",
       "<table border=\"1\" class=\"dataframe\">\n",
       "  <thead>\n",
       "    <tr style=\"text-align: right;\">\n",
       "      <th></th>\n",
       "      <th>global_active_power</th>\n",
       "      <th>global_reactive_power</th>\n",
       "      <th>voltage</th>\n",
       "      <th>global_intensity</th>\n",
       "      <th>sub_metering_1</th>\n",
       "      <th>sub_metering_2</th>\n",
       "      <th>sub_metering_3</th>\n",
       "      <th>numer_sta</th>\n",
       "      <th>pmer</th>\n",
       "      <th>tend</th>\n",
       "      <th>...</th>\n",
       "      <th>phenspe1</th>\n",
       "      <th>phenspe2</th>\n",
       "      <th>phenspe3</th>\n",
       "      <th>nnuage1</th>\n",
       "      <th>ctype1</th>\n",
       "      <th>hnuage1</th>\n",
       "      <th>Nom</th>\n",
       "      <th>Latitude</th>\n",
       "      <th>Longitude</th>\n",
       "      <th>Altitude</th>\n",
       "    </tr>\n",
       "    <tr>\n",
       "      <th>date</th>\n",
       "      <th></th>\n",
       "      <th></th>\n",
       "      <th></th>\n",
       "      <th></th>\n",
       "      <th></th>\n",
       "      <th></th>\n",
       "      <th></th>\n",
       "      <th></th>\n",
       "      <th></th>\n",
       "      <th></th>\n",
       "      <th></th>\n",
       "      <th></th>\n",
       "      <th></th>\n",
       "      <th></th>\n",
       "      <th></th>\n",
       "      <th></th>\n",
       "      <th></th>\n",
       "      <th></th>\n",
       "      <th></th>\n",
       "      <th></th>\n",
       "      <th></th>\n",
       "    </tr>\n",
       "  </thead>\n",
       "  <tbody>\n",
       "    <tr>\n",
       "      <th>2007-01-01 00:00:00</th>\n",
       "      <td>2.580</td>\n",
       "      <td>0.136</td>\n",
       "      <td>241.97</td>\n",
       "      <td>10.6</td>\n",
       "      <td>0.0</td>\n",
       "      <td>0.0</td>\n",
       "      <td>0.0</td>\n",
       "      <td>7149.0</td>\n",
       "      <td>101960.0</td>\n",
       "      <td>-70.0</td>\n",
       "      <td>...</td>\n",
       "      <td>1017.0</td>\n",
       "      <td>710.0</td>\n",
       "      <td>1118.0</td>\n",
       "      <td>2.0</td>\n",
       "      <td>8.0</td>\n",
       "      <td>780.0</td>\n",
       "      <td>ORLY</td>\n",
       "      <td>48.716833</td>\n",
       "      <td>2.384333</td>\n",
       "      <td>89.0</td>\n",
       "    </tr>\n",
       "    <tr>\n",
       "      <th>2007-01-01 00:01:00</th>\n",
       "      <td>2.552</td>\n",
       "      <td>0.100</td>\n",
       "      <td>241.75</td>\n",
       "      <td>10.4</td>\n",
       "      <td>0.0</td>\n",
       "      <td>0.0</td>\n",
       "      <td>0.0</td>\n",
       "      <td>7149.0</td>\n",
       "      <td>101960.0</td>\n",
       "      <td>-70.0</td>\n",
       "      <td>...</td>\n",
       "      <td>1017.0</td>\n",
       "      <td>710.0</td>\n",
       "      <td>1118.0</td>\n",
       "      <td>2.0</td>\n",
       "      <td>8.0</td>\n",
       "      <td>780.0</td>\n",
       "      <td>ORLY</td>\n",
       "      <td>48.716833</td>\n",
       "      <td>2.384333</td>\n",
       "      <td>89.0</td>\n",
       "    </tr>\n",
       "    <tr>\n",
       "      <th>2007-01-01 00:02:00</th>\n",
       "      <td>2.550</td>\n",
       "      <td>0.100</td>\n",
       "      <td>241.64</td>\n",
       "      <td>10.4</td>\n",
       "      <td>0.0</td>\n",
       "      <td>0.0</td>\n",
       "      <td>0.0</td>\n",
       "      <td>7149.0</td>\n",
       "      <td>101960.0</td>\n",
       "      <td>-70.0</td>\n",
       "      <td>...</td>\n",
       "      <td>1017.0</td>\n",
       "      <td>710.0</td>\n",
       "      <td>1118.0</td>\n",
       "      <td>2.0</td>\n",
       "      <td>8.0</td>\n",
       "      <td>780.0</td>\n",
       "      <td>ORLY</td>\n",
       "      <td>48.716833</td>\n",
       "      <td>2.384333</td>\n",
       "      <td>89.0</td>\n",
       "    </tr>\n",
       "    <tr>\n",
       "      <th>2007-01-01 00:03:00</th>\n",
       "      <td>2.550</td>\n",
       "      <td>0.100</td>\n",
       "      <td>241.71</td>\n",
       "      <td>10.4</td>\n",
       "      <td>0.0</td>\n",
       "      <td>0.0</td>\n",
       "      <td>0.0</td>\n",
       "      <td>7149.0</td>\n",
       "      <td>101960.0</td>\n",
       "      <td>-70.0</td>\n",
       "      <td>...</td>\n",
       "      <td>1017.0</td>\n",
       "      <td>710.0</td>\n",
       "      <td>1118.0</td>\n",
       "      <td>2.0</td>\n",
       "      <td>8.0</td>\n",
       "      <td>780.0</td>\n",
       "      <td>ORLY</td>\n",
       "      <td>48.716833</td>\n",
       "      <td>2.384333</td>\n",
       "      <td>89.0</td>\n",
       "    </tr>\n",
       "    <tr>\n",
       "      <th>2007-01-01 00:04:00</th>\n",
       "      <td>2.554</td>\n",
       "      <td>0.100</td>\n",
       "      <td>241.98</td>\n",
       "      <td>10.4</td>\n",
       "      <td>0.0</td>\n",
       "      <td>0.0</td>\n",
       "      <td>0.0</td>\n",
       "      <td>7149.0</td>\n",
       "      <td>101960.0</td>\n",
       "      <td>-70.0</td>\n",
       "      <td>...</td>\n",
       "      <td>1017.0</td>\n",
       "      <td>710.0</td>\n",
       "      <td>1118.0</td>\n",
       "      <td>2.0</td>\n",
       "      <td>8.0</td>\n",
       "      <td>780.0</td>\n",
       "      <td>ORLY</td>\n",
       "      <td>48.716833</td>\n",
       "      <td>2.384333</td>\n",
       "      <td>89.0</td>\n",
       "    </tr>\n",
       "  </tbody>\n",
       "</table>\n",
       "<p>5 rows × 43 columns</p>\n",
       "</div>"
      ],
      "text/plain": [
       "                     global_active_power  global_reactive_power  voltage  \\\n",
       "date                                                                       \n",
       "2007-01-01 00:00:00                2.580                  0.136   241.97   \n",
       "2007-01-01 00:01:00                2.552                  0.100   241.75   \n",
       "2007-01-01 00:02:00                2.550                  0.100   241.64   \n",
       "2007-01-01 00:03:00                2.550                  0.100   241.71   \n",
       "2007-01-01 00:04:00                2.554                  0.100   241.98   \n",
       "\n",
       "                     global_intensity  sub_metering_1  sub_metering_2  \\\n",
       "date                                                                    \n",
       "2007-01-01 00:00:00              10.6             0.0             0.0   \n",
       "2007-01-01 00:01:00              10.4             0.0             0.0   \n",
       "2007-01-01 00:02:00              10.4             0.0             0.0   \n",
       "2007-01-01 00:03:00              10.4             0.0             0.0   \n",
       "2007-01-01 00:04:00              10.4             0.0             0.0   \n",
       "\n",
       "                     sub_metering_3  numer_sta      pmer  tend  ...  phenspe1  \\\n",
       "date                                                            ...             \n",
       "2007-01-01 00:00:00             0.0     7149.0  101960.0 -70.0  ...    1017.0   \n",
       "2007-01-01 00:01:00             0.0     7149.0  101960.0 -70.0  ...    1017.0   \n",
       "2007-01-01 00:02:00             0.0     7149.0  101960.0 -70.0  ...    1017.0   \n",
       "2007-01-01 00:03:00             0.0     7149.0  101960.0 -70.0  ...    1017.0   \n",
       "2007-01-01 00:04:00             0.0     7149.0  101960.0 -70.0  ...    1017.0   \n",
       "\n",
       "                     phenspe2  phenspe3  nnuage1  ctype1  hnuage1   Nom  \\\n",
       "date                                                                      \n",
       "2007-01-01 00:00:00     710.0    1118.0      2.0     8.0    780.0  ORLY   \n",
       "2007-01-01 00:01:00     710.0    1118.0      2.0     8.0    780.0  ORLY   \n",
       "2007-01-01 00:02:00     710.0    1118.0      2.0     8.0    780.0  ORLY   \n",
       "2007-01-01 00:03:00     710.0    1118.0      2.0     8.0    780.0  ORLY   \n",
       "2007-01-01 00:04:00     710.0    1118.0      2.0     8.0    780.0  ORLY   \n",
       "\n",
       "                      Latitude  Longitude  Altitude  \n",
       "date                                                 \n",
       "2007-01-01 00:00:00  48.716833   2.384333      89.0  \n",
       "2007-01-01 00:01:00  48.716833   2.384333      89.0  \n",
       "2007-01-01 00:02:00  48.716833   2.384333      89.0  \n",
       "2007-01-01 00:03:00  48.716833   2.384333      89.0  \n",
       "2007-01-01 00:04:00  48.716833   2.384333      89.0  \n",
       "\n",
       "[5 rows x 43 columns]"
      ]
     },
     "execution_count": 4,
     "metadata": {},
     "output_type": "execute_result"
    }
   ],
   "source": [
    "df = pd.read_pickle(\n",
    "    HOUSEHOLD_WEATHER_MERGED_PATH    \n",
    ")\n",
    "\n",
    "house_consumpion_columns = [\n",
    "    'global_active_power', \n",
    "    'global_reactive_power', \n",
    "    'voltage',\n",
    "    'global_intensity', \n",
    "    'sub_metering_1', \n",
    "    'sub_metering_2',\n",
    "    'sub_metering_3',\n",
    "    'daily_energy_consumption_kwh'\n",
    "]\n",
    "\n",
    "df.head()"
   ]
  },
  {
   "cell_type": "code",
   "execution_count": 5,
   "metadata": {},
   "outputs": [
    {
     "data": {
      "text/plain": [
       "Index(['global_active_power', 'global_reactive_power', 'voltage',\n",
       "       'global_intensity', 'sub_metering_1', 'sub_metering_2',\n",
       "       'sub_metering_3', 'numer_sta', 'pmer', 'tend', 'cod_tend', 'dd', 'ff',\n",
       "       't', 'td', 'u', 'vv', 'ww', 'w1', 'w2', 'n', 'nbas', 'hbas', 'cl', 'cm',\n",
       "       'ch', 'pres', 'rafper', 'per', 'ssfrai', 'perssfrai', 'rr1', 'rr3',\n",
       "       'phenspe1', 'phenspe2', 'phenspe3', 'nnuage1', 'ctype1', 'hnuage1',\n",
       "       'Nom', 'Latitude', 'Longitude', 'Altitude'],\n",
       "      dtype='object')"
      ]
     },
     "execution_count": 5,
     "metadata": {},
     "output_type": "execute_result"
    }
   ],
   "source": [
    "df.columns"
   ]
  },
  {
   "cell_type": "markdown",
   "metadata": {},
   "source": [
    "## Train test split"
   ]
  },
  {
   "cell_type": "code",
   "execution_count": 6,
   "metadata": {},
   "outputs": [],
   "source": [
    "\n",
    "def get_season(x):\n",
    "    seasons = []\n",
    "    month = x.month\n",
    "    \n",
    "    for m in month:\n",
    "    # Define the seasons based on months\n",
    "        if 3 <= m <= 5:\n",
    "            season = \"Spring\"\n",
    "        elif 6 <= m <= 8:\n",
    "            season = \"Summer\"\n",
    "        elif 9 <= m <= 11:\n",
    "            season = \"Autumn\"\n",
    "        else:\n",
    "            season = \"Winter\"\n",
    "\n",
    "        seasons.append(season)\n",
    "\n",
    "    return seasons\n"
   ]
  },
  {
   "cell_type": "code",
   "execution_count": 7,
   "metadata": {},
   "outputs": [],
   "source": [
    "def get_weekend_feature(df:pd.DataFrame):\n",
    "    day_of_week = df.index.day_of_week\n",
    "    is_weekend = (day_of_week == 5) | (day_of_week ==6)\n",
    "    df['is_weekend'] = is_weekend.astype(float)\n",
    "\n",
    "    return df\n",
    "\n",
    "def get_season_feature(df : pd.DataFrame):\n",
    "    seasons = get_season(df.index)\n",
    "    df['season'] = seasons\n",
    "    df = pd.concat(\n",
    "        [\n",
    "            df,\n",
    "            pd.get_dummies(df['season'])\n",
    "        ],\n",
    "        axis = 1\n",
    "    )\n",
    "\n",
    "    return df\n",
    "\n"
   ]
  },
  {
   "cell_type": "code",
   "execution_count": 8,
   "metadata": {},
   "outputs": [],
   "source": [
    "raw_train_df = df.loc[:'31-12-2009']\n",
    "raw_test_df = df.loc['2010']\n",
    "\n",
    "# ------------ train df -------------------------------\n",
    "\n",
    "raw_train_df['daily_energy_consumption_kwh'] = raw_train_df['global_active_power']\\\n",
    "    .groupby(\n",
    "        pd.Grouper(freq='1D')\n",
    "    ).sum()/(60)\n",
    "\n",
    "train_df = raw_train_df.dropna()\n",
    "\n",
    "train_df = get_weekend_feature(train_df)\n",
    "train_df = get_season_feature(train_df)\n",
    "\n",
    "\n",
    "# ------------ test df ----------------------------------\n",
    "\n",
    "raw_test_df['daily_energy_consumption_kwh'] = raw_test_df['global_active_power']\\\n",
    "    .groupby(\n",
    "        pd.Grouper(freq='1D')\n",
    "    ).sum()/(60)\n",
    "\n",
    "test_df = raw_test_df.dropna()\n",
    "\n",
    "test_df = get_weekend_feature(test_df)\n",
    "test_df = get_season_feature(test_df)\n"
   ]
  },
  {
   "cell_type": "markdown",
   "metadata": {},
   "source": [
    "### Selecting columns"
   ]
  },
  {
   "cell_type": "code",
   "execution_count": 9,
   "metadata": {},
   "outputs": [],
   "source": [
    "\n",
    "corr = train_df.corr()"
   ]
  },
  {
   "cell_type": "code",
   "execution_count": 10,
   "metadata": {},
   "outputs": [
    {
     "data": {
      "text/plain": [
       "sub_metering_3                  0.168541\n",
       "vv                              0.179804\n",
       "voltage                         0.217772\n",
       "Winter                          0.218882\n",
       "td                              0.284163\n",
       "global_intensity                0.301547\n",
       "t                               0.301961\n",
       "Summer                          0.308917\n",
       "global_active_power             0.315207\n",
       "daily_energy_consumption_kwh    1.000000\n",
       "Name: daily_energy_consumption_kwh, dtype: float64"
      ]
     },
     "execution_count": 10,
     "metadata": {},
     "output_type": "execute_result"
    }
   ],
   "source": [
    "abs(corr.loc['daily_energy_consumption_kwh']).sort_values().dropna().tail(10)"
   ]
  },
  {
   "cell_type": "code",
   "execution_count": 11,
   "metadata": {},
   "outputs": [
    {
     "data": {
      "image/png": "[encoded data removed]",
      "text/plain": [
       "<Figure size 800x600 with 2 Axes>"
      ]
     },
     "metadata": {},
     "output_type": "display_data"
    }
   ],
   "source": [
    "plt.figure(figsize=(8, 6))\n",
    "sns.heatmap(corr, cmap='seismic', vmin=-1, vmax=1)\n",
    "plt.title('Correlation Heatmap')\n",
    "plt.show()"
   ]
  },
  {
   "cell_type": "markdown",
   "metadata": {},
   "source": [
    "## Selecting features"
   ]
  },
  {
   "cell_type": "code",
   "execution_count": 12,
   "metadata": {},
   "outputs": [
    {
     "data": {
      "text/plain": [
       "Index(['pmer', 'ff', 't', 'td', 'u', 'vv', 'n', 'cm', 'ch', 'pres',\n",
       "       'is_weekend', 'Spring', 'Summer', 'Winter'],\n",
       "      dtype='object')"
      ]
     },
     "execution_count": 12,
     "metadata": {},
     "output_type": "execute_result"
    }
   ],
   "source": [
    "selected_columns = corr['global_active_power'].abs() > 3e-2\n",
    "selected_columns[house_consumpion_columns] = False\n",
    "selected_columns = selected_columns[selected_columns].index\n",
    "\n",
    "selected_columns"
   ]
  },
  {
   "cell_type": "markdown",
   "metadata": {},
   "source": [
    "## Optimization methods"
   ]
  },
  {
   "cell_type": "markdown",
   "metadata": {},
   "source": [
    "### Choosing model- cross validation"
   ]
  },
  {
   "cell_type": "markdown",
   "metadata": {},
   "source": [
    "In order to determine the optimal model for testing, we will train various models and select the one that demonstrates the highest average performance during the validation period."
   ]
  },
  {
   "cell_type": "code",
   "execution_count": 13,
   "metadata": {},
   "outputs": [],
   "source": [
    "\n",
    "def train(\n",
    "    train_df : pd.DataFrame, \n",
    "    target: pd.Series,\n",
    "    n_splits : int,\n",
    "    models : List[BaseEstimator] = [\n",
    "        SVR(kernel = 'rbf'), \n",
    "        LinearRegression(), \n",
    "        Lasso(), \n",
    "        DecisionTreeRegressor(max_depth = 4),\n",
    "        RandomForestRegressor(n_estimators = 30, max_depth = 4), \n",
    "    ]\n",
    "):\n",
    "    \"\"\"\n",
    "    Train multiple regression models and evaluate their performance using cross-validation.\n",
    "\n",
    "    Parameters:\n",
    "    - train_df (pd.DataFrame): DataFrame containing the training features.\n",
    "    - target (pd.Series): Series containing the target variable.\n",
    "    - n_splits (int): Number of splits for cross-validation.\n",
    "    - models (List[BaseEstimator], optional): List of regression models to train. Defaults to a list containing SVR, LinearRegression, Lasso, RandomForestRegressor, and MLPRegressor.\n",
    "\n",
    "    Returns:\n",
    "    - results (Dict[str, List[float]]): Dictionary containing the validation scores for each model.\n",
    "    \"\"\"\n",
    "    \n",
    "    results = {type(x).__name__ : [] for x in models}\n",
    "    splitter = splitter = KFold(n_splits)\n",
    "\n",
    "    for model in models:\n",
    "\n",
    "        model_name : str = type(model).__name__\n",
    "        \n",
    "        clear_output()\n",
    "        print(f\"Running model selection for {model_name}\")\n",
    "\n",
    "        splits = splitter.split(train_df)\n",
    "\n",
    "        for idx_train, idx_val in tqdm(splits, total = n_splits):\n",
    "            X_train = train_df.iloc[idx_train]\n",
    "            y_train = target.iloc[idx_train]\n",
    "\n",
    "            X_val = train_df.iloc[idx_val]\n",
    "            y_val = target.iloc[idx_val]\n",
    "\n",
    "            model.fit(X_train, y_train)\n",
    "\n",
    "            y_pred = model.predict(X_val)\n",
    "\n",
    "            validation_score = r2_score(y_val, y_pred)\n",
    "\n",
    "            results[model_name].append(validation_score)\n",
    "\n",
    "    return results"
   ]
  },
  {
   "cell_type": "code",
   "execution_count": 14,
   "metadata": {},
   "outputs": [],
   "source": [
    "selected_columns = [\n",
    "       'is_weekend', 'Autumn', 'Spring', 'Summer', 'Winter'\n",
    "]"
   ]
  },
  {
   "cell_type": "code",
   "execution_count": 15,
   "metadata": {},
   "outputs": [],
   "source": [
    "\n",
    "X_train = train_df[selected_columns]\\\n",
    "    .dropna()\n",
    "\n",
    "y_train = train_df['daily_energy_consumption_kwh']\n",
    "\n",
    "intersection_idx = y_train.index.intersection(X_train.index)\n",
    "\n",
    "y_train = y_train.reindex(index = intersection_idx)\n",
    "X_train = X_train.reindex(index = intersection_idx)\n",
    "\n",
    "# ----------- test ---------------------\n",
    "\n",
    "X_test = test_df[selected_columns].dropna()\n",
    "y_test = test_df['daily_energy_consumption_kwh']\n",
    "intersection_idx = y_test.index.intersection(X_test.index)\n",
    "\n",
    "y_test = y_test.reindex(index = intersection_idx)\n",
    "X_test = X_test.reindex(index = intersection_idx)"
   ]
  },
  {
   "cell_type": "code",
   "execution_count": 16,
   "metadata": {},
   "outputs": [
    {
     "name": "stdout",
     "output_type": "stream",
     "text": [
      "Running model selection for RandomForestRegressor\n"
     ]
    },
    {
     "name": "stderr",
     "output_type": "stream",
     "text": [
      "100%|██████████| 3/3 [00:00<00:00, 72.77it/s]\n"
     ]
    }
   ],
   "source": [
    "\n",
    "train_results = train(\n",
    "    X_train,\n",
    "    y_train,\n",
    "    3\n",
    ")"
   ]
  },
  {
   "cell_type": "code",
   "execution_count": 17,
   "metadata": {},
   "outputs": [
    {
     "data": {
      "text/html": [
       "<div>\n",
       "<style scoped>\n",
       "    .dataframe tbody tr th:only-of-type {\n",
       "        vertical-align: middle;\n",
       "    }\n",
       "\n",
       "    .dataframe tbody tr th {\n",
       "        vertical-align: top;\n",
       "    }\n",
       "\n",
       "    .dataframe thead th {\n",
       "        text-align: right;\n",
       "    }\n",
       "</style>\n",
       "<table border=\"1\" class=\"dataframe\">\n",
       "  <thead>\n",
       "    <tr style=\"text-align: right;\">\n",
       "      <th></th>\n",
       "      <th>SVR</th>\n",
       "      <th>LinearRegression</th>\n",
       "      <th>Lasso</th>\n",
       "      <th>DecisionTreeRegressor</th>\n",
       "      <th>RandomForestRegressor</th>\n",
       "    </tr>\n",
       "  </thead>\n",
       "  <tbody>\n",
       "    <tr>\n",
       "      <th>0</th>\n",
       "      <td>0.110471</td>\n",
       "      <td>0.102172</td>\n",
       "      <td>0.023388</td>\n",
       "      <td>0.103073</td>\n",
       "      <td>0.103922</td>\n",
       "    </tr>\n",
       "    <tr>\n",
       "      <th>1</th>\n",
       "      <td>0.109612</td>\n",
       "      <td>0.109496</td>\n",
       "      <td>0.031570</td>\n",
       "      <td>0.113481</td>\n",
       "      <td>0.110726</td>\n",
       "    </tr>\n",
       "    <tr>\n",
       "      <th>2</th>\n",
       "      <td>0.159186</td>\n",
       "      <td>0.169992</td>\n",
       "      <td>0.050334</td>\n",
       "      <td>0.168785</td>\n",
       "      <td>0.172723</td>\n",
       "    </tr>\n",
       "  </tbody>\n",
       "</table>\n",
       "</div>"
      ],
      "text/plain": [
       "        SVR  LinearRegression     Lasso  DecisionTreeRegressor  \\\n",
       "0  0.110471          0.102172  0.023388               0.103073   \n",
       "1  0.109612          0.109496  0.031570               0.113481   \n",
       "2  0.159186          0.169992  0.050334               0.168785   \n",
       "\n",
       "   RandomForestRegressor  \n",
       "0               0.103922  \n",
       "1               0.110726  \n",
       "2               0.172723  "
      ]
     },
     "execution_count": 17,
     "metadata": {},
     "output_type": "execute_result"
    }
   ],
   "source": [
    "pd.DataFrame(train_results)"
   ]
  },
  {
   "cell_type": "code",
   "execution_count": 18,
   "metadata": {},
   "outputs": [
    {
     "data": {
      "text/plain": [
       "SVR                      0.126423\n",
       "LinearRegression         0.127220\n",
       "Lasso                    0.035097\n",
       "DecisionTreeRegressor    0.128446\n",
       "RandomForestRegressor    0.129124\n",
       "dtype: float64"
      ]
     },
     "execution_count": 18,
     "metadata": {},
     "output_type": "execute_result"
    }
   ],
   "source": [
    "pd.DataFrame(train_results).mean()"
   ]
  },
  {
   "cell_type": "markdown",
   "metadata": {},
   "source": [
    "As observed, weather features alone did not perform well during validation, as indicated by negative r2 scores. We will enhance them by incorporating features derived from previous target values."
   ]
  },
  {
   "cell_type": "markdown",
   "metadata": {},
   "source": [
    "## Experiment 2 - consumption features"
   ]
  },
  {
   "cell_type": "code",
   "execution_count": 89,
   "metadata": {},
   "outputs": [],
   "source": [
    "frequencies = [1, 7]\n",
    "\n",
    "X_train2 = X_train.copy()\n",
    "y_train2 = y_train.copy()\n",
    "\n",
    "X_test2 = X_test.copy()\n",
    "y_test2 = y_test.copy()\n",
    "\n",
    "for freq in frequencies:\n",
    "    X_train2[f'avg_consumption_d-{freq}'] = y_train2.rolling(freq)\\\n",
    "        .mean()\\\n",
    "        .shift(1)\n",
    "    \n",
    "    # X_train2[f'diff_consumption_d-{freq}'] = y_train2.diff(freq)\\\n",
    "    #     .shift(1)\n",
    "    \n",
    "    X_test2[f'avg_consumption_d-{freq}'] = y_test2.rolling(freq)\\\n",
    "        .mean()\\\n",
    "        .shift(1)\n",
    "    \n",
    "    # X_test2[f'diff_consumption_d-{freq}'] = y_test2.diff(freq)\\\n",
    "    #     .shift(1)\n",
    "    \n",
    "X_train2 = X_train2.dropna()\n",
    "y_train2 = y_train2.reindex(index = X_train2.index)\n",
    "\n",
    "X_test2 = X_test2.dropna()\n",
    "y_test2 = y_test2.reindex(index = X_test2.index)\n",
    "\n",
    "# "
   ]
  },
  {
   "cell_type": "code",
   "execution_count": 90,
   "metadata": {},
   "outputs": [
    {
     "data": {
      "text/plain": [
       "is_weekend             0.129212\n",
       "Autumn                 0.099853\n",
       "Spring                -0.006181\n",
       "Summer                -0.310496\n",
       "Winter                 0.220445\n",
       "avg_consumption_d-1    0.510698\n",
       "avg_consumption_d-7    0.365966\n",
       "dtype: float64"
      ]
     },
     "execution_count": 90,
     "metadata": {},
     "output_type": "execute_result"
    }
   ],
   "source": [
    "X_train2.corrwith(y_train2)"
   ]
  },
  {
   "cell_type": "code",
   "execution_count": 91,
   "metadata": {},
   "outputs": [],
   "source": [
    "model = LinearRegression().fit(X_train2, y_train2)"
   ]
  },
  {
   "cell_type": "code",
   "execution_count": 92,
   "metadata": {},
   "outputs": [],
   "source": [
    "explainer = shap.LinearExplainer(model, X_train2)\n"
   ]
  },
  {
   "cell_type": "code",
   "execution_count": 93,
   "metadata": {},
   "outputs": [
    {
     "data": {
      "image/png": "[encoded data removed]",
      "text/plain": [
       "<Figure size 800x430 with 1 Axes>"
      ]
     },
     "metadata": {},
     "output_type": "display_data"
    }
   ],
   "source": [
    "shap.summary_plot(explainer.shap_values(X_train2), X_train2, plot_type=\"bar\")"
   ]
  },
  {
   "cell_type": "code",
   "execution_count": 94,
   "metadata": {},
   "outputs": [
    {
     "data": {
      "text/html": [
       "<div>\n",
       "<style scoped>\n",
       "    .dataframe tbody tr th:only-of-type {\n",
       "        vertical-align: middle;\n",
       "    }\n",
       "\n",
       "    .dataframe tbody tr th {\n",
       "        vertical-align: top;\n",
       "    }\n",
       "\n",
       "    .dataframe thead th {\n",
       "        text-align: right;\n",
       "    }\n",
       "</style>\n",
       "<table border=\"1\" class=\"dataframe\">\n",
       "  <thead>\n",
       "    <tr style=\"text-align: right;\">\n",
       "      <th></th>\n",
       "      <th>is_weekend</th>\n",
       "      <th>Autumn</th>\n",
       "      <th>Spring</th>\n",
       "      <th>Summer</th>\n",
       "      <th>Winter</th>\n",
       "      <th>avg_consumption_d-1</th>\n",
       "      <th>avg_consumption_d-7</th>\n",
       "    </tr>\n",
       "    <tr>\n",
       "      <th>date</th>\n",
       "      <th></th>\n",
       "      <th></th>\n",
       "      <th></th>\n",
       "      <th></th>\n",
       "      <th></th>\n",
       "      <th></th>\n",
       "      <th></th>\n",
       "    </tr>\n",
       "  </thead>\n",
       "  <tbody>\n",
       "    <tr>\n",
       "      <th>2007-01-08</th>\n",
       "      <td>0.0</td>\n",
       "      <td>0</td>\n",
       "      <td>0</td>\n",
       "      <td>0</td>\n",
       "      <td>1</td>\n",
       "      <td>17.111067</td>\n",
       "      <td>26.924955</td>\n",
       "    </tr>\n",
       "    <tr>\n",
       "      <th>2007-01-09</th>\n",
       "      <td>0.0</td>\n",
       "      <td>0</td>\n",
       "      <td>0</td>\n",
       "      <td>0</td>\n",
       "      <td>1</td>\n",
       "      <td>18.069550</td>\n",
       "      <td>22.961071</td>\n",
       "    </tr>\n",
       "    <tr>\n",
       "      <th>2007-01-10</th>\n",
       "      <td>0.0</td>\n",
       "      <td>0</td>\n",
       "      <td>0</td>\n",
       "      <td>0</td>\n",
       "      <td>1</td>\n",
       "      <td>28.276433</td>\n",
       "      <td>22.785029</td>\n",
       "    </tr>\n",
       "    <tr>\n",
       "      <th>2007-01-11</th>\n",
       "      <td>0.0</td>\n",
       "      <td>0</td>\n",
       "      <td>0</td>\n",
       "      <td>0</td>\n",
       "      <td>1</td>\n",
       "      <td>27.834500</td>\n",
       "      <td>25.529090</td>\n",
       "    </tr>\n",
       "    <tr>\n",
       "      <th>2007-01-12</th>\n",
       "      <td>0.0</td>\n",
       "      <td>0</td>\n",
       "      <td>0</td>\n",
       "      <td>0</td>\n",
       "      <td>1</td>\n",
       "      <td>8.270267</td>\n",
       "      <td>20.545540</td>\n",
       "    </tr>\n",
       "    <tr>\n",
       "      <th>...</th>\n",
       "      <td>...</td>\n",
       "      <td>...</td>\n",
       "      <td>...</td>\n",
       "      <td>...</td>\n",
       "      <td>...</td>\n",
       "      <td>...</td>\n",
       "      <td>...</td>\n",
       "    </tr>\n",
       "    <tr>\n",
       "      <th>2009-12-27</th>\n",
       "      <td>1.0</td>\n",
       "      <td>0</td>\n",
       "      <td>0</td>\n",
       "      <td>0</td>\n",
       "      <td>1</td>\n",
       "      <td>35.973950</td>\n",
       "      <td>31.242590</td>\n",
       "    </tr>\n",
       "    <tr>\n",
       "      <th>2009-12-28</th>\n",
       "      <td>0.0</td>\n",
       "      <td>0</td>\n",
       "      <td>0</td>\n",
       "      <td>0</td>\n",
       "      <td>1</td>\n",
       "      <td>35.322750</td>\n",
       "      <td>33.582450</td>\n",
       "    </tr>\n",
       "    <tr>\n",
       "      <th>2009-12-29</th>\n",
       "      <td>0.0</td>\n",
       "      <td>0</td>\n",
       "      <td>0</td>\n",
       "      <td>0</td>\n",
       "      <td>1</td>\n",
       "      <td>34.649167</td>\n",
       "      <td>34.028455</td>\n",
       "    </tr>\n",
       "    <tr>\n",
       "      <th>2009-12-30</th>\n",
       "      <td>0.0</td>\n",
       "      <td>0</td>\n",
       "      <td>0</td>\n",
       "      <td>0</td>\n",
       "      <td>1</td>\n",
       "      <td>33.101867</td>\n",
       "      <td>34.270574</td>\n",
       "    </tr>\n",
       "    <tr>\n",
       "      <th>2009-12-31</th>\n",
       "      <td>0.0</td>\n",
       "      <td>0</td>\n",
       "      <td>0</td>\n",
       "      <td>0</td>\n",
       "      <td>1</td>\n",
       "      <td>36.788350</td>\n",
       "      <td>36.075405</td>\n",
       "    </tr>\n",
       "  </tbody>\n",
       "</table>\n",
       "<p>1089 rows × 7 columns</p>\n",
       "</div>"
      ],
      "text/plain": [
       "            is_weekend  Autumn  Spring  Summer  Winter  avg_consumption_d-1  \\\n",
       "date                                                                          \n",
       "2007-01-08         0.0       0       0       0       1            17.111067   \n",
       "2007-01-09         0.0       0       0       0       1            18.069550   \n",
       "2007-01-10         0.0       0       0       0       1            28.276433   \n",
       "2007-01-11         0.0       0       0       0       1            27.834500   \n",
       "2007-01-12         0.0       0       0       0       1             8.270267   \n",
       "...                ...     ...     ...     ...     ...                  ...   \n",
       "2009-12-27         1.0       0       0       0       1            35.973950   \n",
       "2009-12-28         0.0       0       0       0       1            35.322750   \n",
       "2009-12-29         0.0       0       0       0       1            34.649167   \n",
       "2009-12-30         0.0       0       0       0       1            33.101867   \n",
       "2009-12-31         0.0       0       0       0       1            36.788350   \n",
       "\n",
       "            avg_consumption_d-7  \n",
       "date                             \n",
       "2007-01-08            26.924955  \n",
       "2007-01-09            22.961071  \n",
       "2007-01-10            22.785029  \n",
       "2007-01-11            25.529090  \n",
       "2007-01-12            20.545540  \n",
       "...                         ...  \n",
       "2009-12-27            31.242590  \n",
       "2009-12-28            33.582450  \n",
       "2009-12-29            34.028455  \n",
       "2009-12-30            34.270574  \n",
       "2009-12-31            36.075405  \n",
       "\n",
       "[1089 rows x 7 columns]"
      ]
     },
     "execution_count": 94,
     "metadata": {},
     "output_type": "execute_result"
    }
   ],
   "source": [
    "X_train2"
   ]
  },
  {
   "cell_type": "code",
   "execution_count": 95,
   "metadata": {},
   "outputs": [
    {
     "name": "stdout",
     "output_type": "stream",
     "text": [
      "Running model selection for RandomForestRegressor\n"
     ]
    },
    {
     "name": "stderr",
     "output_type": "stream",
     "text": [
      "100%|██████████| 10/10 [00:00<00:00, 68.87it/s]\n"
     ]
    }
   ],
   "source": [
    "results_experiment2 = train(\n",
    "    X_train2,\n",
    "    y_train2,\n",
    "    10\n",
    "    \n",
    ")"
   ]
  },
  {
   "cell_type": "code",
   "execution_count": 96,
   "metadata": {},
   "outputs": [
    {
     "data": {
      "text/html": [
       "<div>\n",
       "<style scoped>\n",
       "    .dataframe tbody tr th:only-of-type {\n",
       "        vertical-align: middle;\n",
       "    }\n",
       "\n",
       "    .dataframe tbody tr th {\n",
       "        vertical-align: top;\n",
       "    }\n",
       "\n",
       "    .dataframe thead th {\n",
       "        text-align: right;\n",
       "    }\n",
       "</style>\n",
       "<table border=\"1\" class=\"dataframe\">\n",
       "  <thead>\n",
       "    <tr style=\"text-align: right;\">\n",
       "      <th></th>\n",
       "      <th>SVR</th>\n",
       "      <th>LinearRegression</th>\n",
       "      <th>Lasso</th>\n",
       "      <th>DecisionTreeRegressor</th>\n",
       "      <th>RandomForestRegressor</th>\n",
       "    </tr>\n",
       "  </thead>\n",
       "  <tbody>\n",
       "    <tr>\n",
       "      <th>0</th>\n",
       "      <td>0.103741</td>\n",
       "      <td>0.134490</td>\n",
       "      <td>0.094112</td>\n",
       "      <td>0.077044</td>\n",
       "      <td>0.163371</td>\n",
       "    </tr>\n",
       "    <tr>\n",
       "      <th>1</th>\n",
       "      <td>0.149735</td>\n",
       "      <td>0.173440</td>\n",
       "      <td>0.126101</td>\n",
       "      <td>-0.003961</td>\n",
       "      <td>0.114686</td>\n",
       "    </tr>\n",
       "    <tr>\n",
       "      <th>2</th>\n",
       "      <td>0.252281</td>\n",
       "      <td>0.268675</td>\n",
       "      <td>0.257091</td>\n",
       "      <td>0.218813</td>\n",
       "      <td>0.264957</td>\n",
       "    </tr>\n",
       "    <tr>\n",
       "      <th>3</th>\n",
       "      <td>0.197712</td>\n",
       "      <td>0.288595</td>\n",
       "      <td>0.264340</td>\n",
       "      <td>0.190558</td>\n",
       "      <td>0.234116</td>\n",
       "    </tr>\n",
       "    <tr>\n",
       "      <th>4</th>\n",
       "      <td>-0.042231</td>\n",
       "      <td>-0.025398</td>\n",
       "      <td>-0.021661</td>\n",
       "      <td>-0.045591</td>\n",
       "      <td>0.022396</td>\n",
       "    </tr>\n",
       "    <tr>\n",
       "      <th>5</th>\n",
       "      <td>0.360879</td>\n",
       "      <td>0.475364</td>\n",
       "      <td>0.424843</td>\n",
       "      <td>0.477090</td>\n",
       "      <td>0.450222</td>\n",
       "    </tr>\n",
       "    <tr>\n",
       "      <th>6</th>\n",
       "      <td>0.156492</td>\n",
       "      <td>0.239863</td>\n",
       "      <td>0.199757</td>\n",
       "      <td>0.118931</td>\n",
       "      <td>0.152018</td>\n",
       "    </tr>\n",
       "    <tr>\n",
       "      <th>7</th>\n",
       "      <td>0.042331</td>\n",
       "      <td>0.091691</td>\n",
       "      <td>0.049195</td>\n",
       "      <td>0.012513</td>\n",
       "      <td>0.117740</td>\n",
       "    </tr>\n",
       "    <tr>\n",
       "      <th>8</th>\n",
       "      <td>0.187564</td>\n",
       "      <td>0.218447</td>\n",
       "      <td>0.155895</td>\n",
       "      <td>0.107326</td>\n",
       "      <td>0.022047</td>\n",
       "    </tr>\n",
       "    <tr>\n",
       "      <th>9</th>\n",
       "      <td>0.062417</td>\n",
       "      <td>0.145291</td>\n",
       "      <td>0.064172</td>\n",
       "      <td>-0.038534</td>\n",
       "      <td>0.027932</td>\n",
       "    </tr>\n",
       "  </tbody>\n",
       "</table>\n",
       "</div>"
      ],
      "text/plain": [
       "        SVR  LinearRegression     Lasso  DecisionTreeRegressor  \\\n",
       "0  0.103741          0.134490  0.094112               0.077044   \n",
       "1  0.149735          0.173440  0.126101              -0.003961   \n",
       "2  0.252281          0.268675  0.257091               0.218813   \n",
       "3  0.197712          0.288595  0.264340               0.190558   \n",
       "4 -0.042231         -0.025398 -0.021661              -0.045591   \n",
       "5  0.360879          0.475364  0.424843               0.477090   \n",
       "6  0.156492          0.239863  0.199757               0.118931   \n",
       "7  0.042331          0.091691  0.049195               0.012513   \n",
       "8  0.187564          0.218447  0.155895               0.107326   \n",
       "9  0.062417          0.145291  0.064172              -0.038534   \n",
       "\n",
       "   RandomForestRegressor  \n",
       "0               0.163371  \n",
       "1               0.114686  \n",
       "2               0.264957  \n",
       "3               0.234116  \n",
       "4               0.022396  \n",
       "5               0.450222  \n",
       "6               0.152018  \n",
       "7               0.117740  \n",
       "8               0.022047  \n",
       "9               0.027932  "
      ]
     },
     "execution_count": 96,
     "metadata": {},
     "output_type": "execute_result"
    }
   ],
   "source": [
    "pd.DataFrame(results_experiment2)"
   ]
  },
  {
   "cell_type": "code",
   "execution_count": 97,
   "metadata": {},
   "outputs": [
    {
     "data": {
      "text/plain": [
       "SVR                      0.147092\n",
       "LinearRegression         0.201046\n",
       "Lasso                    0.161385\n",
       "DecisionTreeRegressor    0.111419\n",
       "RandomForestRegressor    0.156949\n",
       "dtype: float64"
      ]
     },
     "execution_count": 97,
     "metadata": {},
     "output_type": "execute_result"
    }
   ],
   "source": [
    "pd.DataFrame(results_experiment2).mean()"
   ]
  },
  {
   "cell_type": "code",
   "execution_count": 98,
   "metadata": {},
   "outputs": [
    {
     "data": {
      "text/html": [
       "<style>#sk-container-id-4 {color: black;background-color: white;}#sk-container-id-4 pre{padding: 0;}#sk-container-id-4 div.sk-toggleable {background-color: white;}#sk-container-id-4 label.sk-toggleable__label {cursor: pointer;display: block;width: 100%;margin-bottom: 0;padding: 0.3em;box-sizing: border-box;text-align: center;}#sk-container-id-4 label.sk-toggleable__label-arrow:before {content: \"▸\";float: left;margin-right: 0.25em;color: #696969;}#sk-container-id-4 label.sk-toggleable__label-arrow:hover:before {color: black;}#sk-container-id-4 div.sk-estimator:hover label.sk-toggleable__label-arrow:before {color: black;}#sk-container-id-4 div.sk-toggleable__content {max-height: 0;max-width: 0;overflow: hidden;text-align: left;background-color: #f0f8ff;}#sk-container-id-4 div.sk-toggleable__content pre {margin: 0.2em;color: black;border-radius: 0.25em;background-color: #f0f8ff;}#sk-container-id-4 input.sk-toggleable__control:checked~div.sk-toggleable__content {max-height: 200px;max-width: 100%;overflow: auto;}#sk-container-id-4 input.sk-toggleable__control:checked~label.sk-toggleable__label-arrow:before {content: \"▾\";}#sk-container-id-4 div.sk-estimator input.sk-toggleable__control:checked~label.sk-toggleable__label {background-color: #d4ebff;}#sk-container-id-4 div.sk-label input.sk-toggleable__control:checked~label.sk-toggleable__label {background-color: #d4ebff;}#sk-container-id-4 input.sk-hidden--visually {border: 0;clip: rect(1px 1px 1px 1px);clip: rect(1px, 1px, 1px, 1px);height: 1px;margin: -1px;overflow: hidden;padding: 0;position: absolute;width: 1px;}#sk-container-id-4 div.sk-estimator {font-family: monospace;background-color: #f0f8ff;border: 1px dotted black;border-radius: 0.25em;box-sizing: border-box;margin-bottom: 0.5em;}#sk-container-id-4 div.sk-estimator:hover {background-color: #d4ebff;}#sk-container-id-4 div.sk-parallel-item::after {content: \"\";width: 100%;border-bottom: 1px solid gray;flex-grow: 1;}#sk-container-id-4 div.sk-label:hover label.sk-toggleable__label {background-color: #d4ebff;}#sk-container-id-4 div.sk-serial::before {content: \"\";position: absolute;border-left: 1px solid gray;box-sizing: border-box;top: 0;bottom: 0;left: 50%;z-index: 0;}#sk-container-id-4 div.sk-serial {display: flex;flex-direction: column;align-items: center;background-color: white;padding-right: 0.2em;padding-left: 0.2em;position: relative;}#sk-container-id-4 div.sk-item {position: relative;z-index: 1;}#sk-container-id-4 div.sk-parallel {display: flex;align-items: stretch;justify-content: center;background-color: white;position: relative;}#sk-container-id-4 div.sk-item::before, #sk-container-id-4 div.sk-parallel-item::before {content: \"\";position: absolute;border-left: 1px solid gray;box-sizing: border-box;top: 0;bottom: 0;left: 50%;z-index: -1;}#sk-container-id-4 div.sk-parallel-item {display: flex;flex-direction: column;z-index: 1;position: relative;background-color: white;}#sk-container-id-4 div.sk-parallel-item:first-child::after {align-self: flex-end;width: 50%;}#sk-container-id-4 div.sk-parallel-item:last-child::after {align-self: flex-start;width: 50%;}#sk-container-id-4 div.sk-parallel-item:only-child::after {width: 0;}#sk-container-id-4 div.sk-dashed-wrapped {border: 1px dashed gray;margin: 0 0.4em 0.5em 0.4em;box-sizing: border-box;padding-bottom: 0.4em;background-color: white;}#sk-container-id-4 div.sk-label label {font-family: monospace;font-weight: bold;display: inline-block;line-height: 1.2em;}#sk-container-id-4 div.sk-label-container {text-align: center;}#sk-container-id-4 div.sk-container {/* jupyter's `normalize.less` sets `[hidden] { display: none; }` but bootstrap.min.css set `[hidden] { display: none !important; }` so we also need the `!important` here to be able to override the default hidden behavior on the sphinx rendered scikit-learn.org. See: https://github.com/scikit-learn/scikit-learn/issues/21755 */display: inline-block !important;position: relative;}#sk-container-id-4 div.sk-text-repr-fallback {display: none;}</style><div id=\"sk-container-id-4\" class=\"sk-top-container\"><div class=\"sk-text-repr-fallback\"><pre>LinearRegression()</pre><b>In a Jupyter environment, please rerun this cell to show the HTML representation or trust the notebook. <br />On GitHub, the HTML representation is unable to render, please try loading this page with nbviewer.org.</b></div><div class=\"sk-container\" hidden><div class=\"sk-item\"><div class=\"sk-estimator sk-toggleable\"><input class=\"sk-toggleable__control sk-hidden--visually\" id=\"sk-estimator-id-4\" type=\"checkbox\" checked><label for=\"sk-estimator-id-4\" class=\"sk-toggleable__label sk-toggleable__label-arrow\">LinearRegression</label><div class=\"sk-toggleable__content\"><pre>LinearRegression()</pre></div></div></div></div></div>"
      ],
      "text/plain": [
       "LinearRegression()"
      ]
     },
     "execution_count": 98,
     "metadata": {},
     "output_type": "execute_result"
    }
   ],
   "source": [
    "model = LinearRegression()\n",
    "model.fit(X_train2, y_train2)"
   ]
  },
  {
   "cell_type": "code",
   "execution_count": 99,
   "metadata": {},
   "outputs": [],
   "source": [
    "y_pred = model.predict(X_test2)"
   ]
  },
  {
   "cell_type": "code",
   "execution_count": 100,
   "metadata": {},
   "outputs": [
    {
     "data": {
      "text/plain": [
       "0.16902835289136564"
      ]
     },
     "execution_count": 100,
     "metadata": {},
     "output_type": "execute_result"
    }
   ],
   "source": [
    "r2_score(y_test2, y_pred)"
   ]
  },
  {
   "cell_type": "markdown",
   "metadata": {},
   "source": [
    "## LSTM"
   ]
  },
  {
   "cell_type": "code",
   "execution_count": 126,
   "metadata": {},
   "outputs": [],
   "source": [
    "X_train3 = X_train2.loc[:'2008']\n",
    "y_train3 = y_train2.loc[:'2008']\n"
   ]
  },
  {
   "cell_type": "code",
   "execution_count": 127,
   "metadata": {},
   "outputs": [],
   "source": [
    "X_val3 = X_train2.loc['2009':]\n",
    "y_val3 = y_train2.loc['2009':]"
   ]
  },
  {
   "cell_type": "code",
   "execution_count": 153,
   "metadata": {},
   "outputs": [
    {
     "name": "stderr",
     "output_type": "stream",
     "text": [
      "  0%|          | 0/30 [00:00<?, ?it/s]"
     ]
    },
    {
     "name": "stderr",
     "output_type": "stream",
     "text": [
      "  3%|▎         | 1/30 [00:00<00:21,  1.35it/s]"
     ]
    },
    {
     "name": "stdout",
     "output_type": "stream",
     "text": [
      "Epoch [1/30], R2: -2.1922\n"
     ]
    },
    {
     "name": "stderr",
     "output_type": "stream",
     "text": [
      "  7%|▋         | 2/30 [00:01<00:21,  1.29it/s]"
     ]
    },
    {
     "name": "stdout",
     "output_type": "stream",
     "text": [
      "Epoch [2/30], R2: -1.5083\n"
     ]
    },
    {
     "name": "stderr",
     "output_type": "stream",
     "text": [
      " 10%|█         | 3/30 [00:02<00:22,  1.20it/s]"
     ]
    },
    {
     "name": "stdout",
     "output_type": "stream",
     "text": [
      "Epoch [3/30], R2: -1.1058\n"
     ]
    },
    {
     "name": "stderr",
     "output_type": "stream",
     "text": [
      " 13%|█▎        | 4/30 [00:03<00:20,  1.25it/s]"
     ]
    },
    {
     "name": "stdout",
     "output_type": "stream",
     "text": [
      "Epoch [4/30], R2: -0.8799\n"
     ]
    },
    {
     "name": "stderr",
     "output_type": "stream",
     "text": [
      " 17%|█▋        | 5/30 [00:04<00:20,  1.24it/s]"
     ]
    },
    {
     "name": "stdout",
     "output_type": "stream",
     "text": [
      "Epoch [5/30], R2: -0.7391\n"
     ]
    },
    {
     "name": "stderr",
     "output_type": "stream",
     "text": [
      " 20%|██        | 6/30 [00:04<00:18,  1.29it/s]"
     ]
    },
    {
     "name": "stdout",
     "output_type": "stream",
     "text": [
      "Epoch [6/30], R2: -0.6506\n"
     ]
    },
    {
     "name": "stderr",
     "output_type": "stream",
     "text": [
      " 23%|██▎       | 7/30 [00:05<00:17,  1.33it/s]"
     ]
    },
    {
     "name": "stdout",
     "output_type": "stream",
     "text": [
      "Epoch [7/30], R2: -0.5845\n"
     ]
    },
    {
     "name": "stderr",
     "output_type": "stream",
     "text": [
      " 27%|██▋       | 8/30 [00:06<00:16,  1.33it/s]"
     ]
    },
    {
     "name": "stdout",
     "output_type": "stream",
     "text": [
      "Epoch [8/30], R2: -0.5360\n"
     ]
    },
    {
     "name": "stderr",
     "output_type": "stream",
     "text": [
      " 30%|███       | 9/30 [00:06<00:16,  1.30it/s]"
     ]
    },
    {
     "name": "stdout",
     "output_type": "stream",
     "text": [
      "Epoch [9/30], R2: -0.5000\n"
     ]
    },
    {
     "name": "stderr",
     "output_type": "stream",
     "text": [
      " 33%|███▎      | 10/30 [00:07<00:15,  1.33it/s]"
     ]
    },
    {
     "name": "stdout",
     "output_type": "stream",
     "text": [
      "Epoch [10/30], R2: -0.4733\n"
     ]
    },
    {
     "name": "stderr",
     "output_type": "stream",
     "text": [
      " 37%|███▋      | 11/30 [00:08<00:14,  1.35it/s]"
     ]
    },
    {
     "name": "stdout",
     "output_type": "stream",
     "text": [
      "Epoch [11/30], R2: -0.4537\n"
     ]
    },
    {
     "name": "stderr",
     "output_type": "stream",
     "text": [
      " 40%|████      | 12/30 [00:09<00:14,  1.27it/s]"
     ]
    },
    {
     "name": "stdout",
     "output_type": "stream",
     "text": [
      "Epoch [12/30], R2: -0.4391\n"
     ]
    },
    {
     "name": "stderr",
     "output_type": "stream",
     "text": [
      " 43%|████▎     | 13/30 [00:10<00:14,  1.18it/s]"
     ]
    },
    {
     "name": "stdout",
     "output_type": "stream",
     "text": [
      "Epoch [13/30], R2: -0.4277\n"
     ]
    },
    {
     "name": "stderr",
     "output_type": "stream",
     "text": [
      " 47%|████▋     | 14/30 [00:11<00:15,  1.05it/s]"
     ]
    },
    {
     "name": "stdout",
     "output_type": "stream",
     "text": [
      "Epoch [14/30], R2: -0.4181\n"
     ]
    },
    {
     "name": "stderr",
     "output_type": "stream",
     "text": [
      " 50%|█████     | 15/30 [00:12<00:15,  1.01s/it]"
     ]
    },
    {
     "name": "stdout",
     "output_type": "stream",
     "text": [
      "Epoch [15/30], R2: -0.4098\n"
     ]
    },
    {
     "name": "stderr",
     "output_type": "stream",
     "text": [
      " 53%|█████▎    | 16/30 [00:13<00:14,  1.04s/it]"
     ]
    },
    {
     "name": "stdout",
     "output_type": "stream",
     "text": [
      "Epoch [16/30], R2: -0.4022\n"
     ]
    },
    {
     "name": "stderr",
     "output_type": "stream",
     "text": [
      " 57%|█████▋    | 17/30 [00:14<00:13,  1.05s/it]"
     ]
    },
    {
     "name": "stdout",
     "output_type": "stream",
     "text": [
      "Epoch [17/30], R2: -0.3953\n"
     ]
    },
    {
     "name": "stderr",
     "output_type": "stream",
     "text": [
      " 60%|██████    | 18/30 [00:15<00:12,  1.05s/it]"
     ]
    },
    {
     "name": "stdout",
     "output_type": "stream",
     "text": [
      "Epoch [18/30], R2: -0.3888\n"
     ]
    },
    {
     "name": "stderr",
     "output_type": "stream",
     "text": [
      " 63%|██████▎   | 19/30 [00:16<00:11,  1.03s/it]"
     ]
    },
    {
     "name": "stdout",
     "output_type": "stream",
     "text": [
      "Epoch [19/30], R2: -0.3828\n"
     ]
    },
    {
     "name": "stderr",
     "output_type": "stream",
     "text": [
      " 67%|██████▋   | 20/30 [00:17<00:10,  1.02s/it]"
     ]
    },
    {
     "name": "stdout",
     "output_type": "stream",
     "text": [
      "Epoch [20/30], R2: -0.3771\n"
     ]
    },
    {
     "name": "stderr",
     "output_type": "stream",
     "text": [
      " 70%|███████   | 21/30 [00:18<00:09,  1.01s/it]"
     ]
    },
    {
     "name": "stdout",
     "output_type": "stream",
     "text": [
      "Epoch [21/30], R2: -0.3717\n"
     ]
    },
    {
     "name": "stderr",
     "output_type": "stream",
     "text": [
      " 73%|███████▎  | 22/30 [00:19<00:08,  1.01s/it]"
     ]
    },
    {
     "name": "stdout",
     "output_type": "stream",
     "text": [
      "Epoch [22/30], R2: -0.3667\n"
     ]
    },
    {
     "name": "stderr",
     "output_type": "stream",
     "text": [
      " 77%|███████▋  | 23/30 [00:20<00:07,  1.00s/it]"
     ]
    },
    {
     "name": "stdout",
     "output_type": "stream",
     "text": [
      "Epoch [23/30], R2: -0.3621\n"
     ]
    },
    {
     "name": "stderr",
     "output_type": "stream",
     "text": [
      " 80%|████████  | 24/30 [00:21<00:06,  1.00s/it]"
     ]
    },
    {
     "name": "stdout",
     "output_type": "stream",
     "text": [
      "Epoch [24/30], R2: -0.3578\n"
     ]
    },
    {
     "name": "stderr",
     "output_type": "stream",
     "text": [
      " 83%|████████▎ | 25/30 [00:22<00:05,  1.05s/it]"
     ]
    },
    {
     "name": "stdout",
     "output_type": "stream",
     "text": [
      "Epoch [25/30], R2: -0.3537\n"
     ]
    },
    {
     "name": "stderr",
     "output_type": "stream",
     "text": [
      " 87%|████████▋ | 26/30 [00:23<00:04,  1.02s/it]"
     ]
    },
    {
     "name": "stdout",
     "output_type": "stream",
     "text": [
      "Epoch [26/30], R2: -0.3500\n"
     ]
    },
    {
     "name": "stderr",
     "output_type": "stream",
     "text": [
      " 90%|█████████ | 27/30 [00:24<00:03,  1.01s/it]"
     ]
    },
    {
     "name": "stdout",
     "output_type": "stream",
     "text": [
      "Epoch [27/30], R2: -0.3465\n"
     ]
    },
    {
     "name": "stderr",
     "output_type": "stream",
     "text": [
      " 93%|█████████▎| 28/30 [00:25<00:01,  1.01it/s]"
     ]
    },
    {
     "name": "stdout",
     "output_type": "stream",
     "text": [
      "Epoch [28/30], R2: -0.3433\n"
     ]
    },
    {
     "name": "stderr",
     "output_type": "stream",
     "text": [
      " 97%|█████████▋| 29/30 [00:26<00:00,  1.01it/s]"
     ]
    },
    {
     "name": "stdout",
     "output_type": "stream",
     "text": [
      "Epoch [29/30], R2: -0.3403\n"
     ]
    },
    {
     "name": "stderr",
     "output_type": "stream",
     "text": [
      "100%|██████████| 30/30 [00:27<00:00,  1.08it/s]"
     ]
    },
    {
     "name": "stdout",
     "output_type": "stream",
     "text": [
      "Epoch [30/30], R2: -0.3375\n"
     ]
    },
    {
     "name": "stderr",
     "output_type": "stream",
     "text": [
      "\n"
     ]
    }
   ],
   "source": [
    "import torch\n",
    "import torch.nn as nn\n",
    "import torch.optim as optim\n",
    "from torch.utils.data import DataLoader, TensorDataset\n",
    "import numpy as np\n",
    "import pandas as pd\n",
    "from torcheval.metrics import R2Score\n",
    "metric = R2Score()\n",
    "\n",
    "# Define the LSTM model\n",
    "class LSTMModel(nn.Module):\n",
    "    def __init__(self, input_size, hidden_size, num_layers, output_size):\n",
    "        super(LSTMModel, self).__init__()\n",
    "        self.hidden_size = hidden_size\n",
    "        self.num_layers = num_layers\n",
    "        self.lstm = nn.LSTM(input_size, hidden_size, num_layers, batch_first=True)\n",
    "        self.fc = nn.Linear(hidden_size, output_size)\n",
    "\n",
    "    def forward(self, x):\n",
    "        h0 = torch.zeros(self.num_layers, x.size(0), self.hidden_size).to(x.device)\n",
    "        c0 = torch.zeros(self.num_layers, x.size(0), self.hidden_size).to(x.device)\n",
    "        out, _ = self.lstm(x, (h0, c0))\n",
    "        out = self.fc(out[:, -1, :])\n",
    "        return out\n",
    "\n",
    "# Prepare the data\n",
    "# Assuming X is a DataFrame and y is a Series\n",
    "X_tensor = torch.tensor(X_train3.values, dtype=torch.float32)\n",
    "y_tensor = torch.tensor(y_train3.values, dtype=torch.float32).view(-1, 1)\n",
    "\n",
    "X_tensor_val = torch.tensor(X_train3.values, dtype=torch.float32)\n",
    "y_tensor_val = torch.tensor(y_train3.values, dtype=torch.float32).view(-1, 1)\n",
    "\n",
    "# Define hyperparameters\n",
    "input_size = X_train2.shape[1]  # Number of features\n",
    "hidden_size = 64\n",
    "num_layers = 2\n",
    "output_size = 1  # Assuming y is a single output\n",
    "batch_size = 5\n",
    "num_epochs = 30\n",
    "learning_rate = 0.001\n",
    "\n",
    "# Create DataLoader\n",
    "dataset = TensorDataset(X_tensor, y_tensor)\n",
    "val_dataset = TensorDataset(X_tensor_val, y_tensor_val)\n",
    "data_loader = DataLoader(dataset, batch_size=batch_size, shuffle=False)\n",
    "val_data_loader = DataLoader(val_dataset, batch_size=1, shuffle=False)\n",
    "\n",
    "# Initialize the model, loss function, and optimizer\n",
    "model = LSTMModel(input_size, hidden_size, num_layers, output_size)\n",
    "criterion = nn.MSELoss()\n",
    "optimizer = optim.Adam(model.parameters(), lr=learning_rate)\n",
    "\n",
    "# Training loop\n",
    "for epoch in tqdm(range(num_epochs)):\n",
    "    predictions = torch.Tensor([])\n",
    "    y_true = torch.Tensor([])\n",
    "    for batch_X, batch_y in data_loader:\n",
    "        # Forward pass\n",
    "        outputs = model(batch_X.unsqueeze(1))\n",
    "        loss = criterion(outputs, batch_y)\n",
    "        \n",
    "        # Backward and optimize\n",
    "        optimizer.zero_grad()\n",
    "        loss.backward()\n",
    "        optimizer.step()\n",
    "\n",
    "    for X, y in val_data_loader:\n",
    "        y_pred = model(X.unsqueeze(1))\n",
    "        predictions = torch.concat([y_pred, predictions])\n",
    "        y_true = torch.concat([y_true, y])\n",
    "\n",
    "    metric.update(predictions, y_true)\n",
    "    r2 = metric.compute()\n",
    "\n",
    "    if (epoch+1) % 1 == 0:\n",
    "        print(f'Epoch [{epoch+1}/{num_epochs}], R2: {r2.item():.4f}')"
   ]
  },
  {
   "cell_type": "code",
   "execution_count": 148,
   "metadata": {},
   "outputs": [],
   "source": []
  },
  {
   "cell_type": "code",
   "execution_count": 151,
   "metadata": {},
   "outputs": [
    {
     "data": {
      "text/plain": [
       "tensor(-2.2001)"
      ]
     },
     "execution_count": 151,
     "metadata": {},
     "output_type": "execute_result"
    }
   ],
   "source": []
  },
  {
   "cell_type": "code",
   "execution_count": 144,
   "metadata": {},
   "outputs": [
    {
     "data": {
      "text/plain": [
       "tensor([[10.5046],\n",
       "        [10.4738],\n",
       "        [10.5181],\n",
       "        [10.5276],\n",
       "        [10.5143],\n",
       "        [10.5108],\n",
       "        [10.5169],\n",
       "        [10.5238],\n",
       "        [10.5251],\n",
       "        [10.5270],\n",
       "        [10.5258],\n",
       "        [10.5237],\n",
       "        [10.5218],\n",
       "        [10.5246],\n",
       "        [10.5224],\n",
       "        [10.5217],\n",
       "        [10.5195],\n",
       "        [10.5174],\n",
       "        [10.5163],\n",
       "        [10.5174],\n",
       "        [10.5139],\n",
       "        [10.5093],\n",
       "        [10.4308],\n",
       "        [10.5163],\n",
       "        [10.5192],\n",
       "        [10.5236],\n",
       "        [10.5288],\n",
       "        [10.5250],\n",
       "        [10.5260],\n",
       "        [10.5292],\n",
       "        [10.5282],\n",
       "        [10.5295],\n",
       "        [10.5274],\n",
       "        [10.5284],\n",
       "        [10.5234],\n",
       "        [10.5292],\n",
       "        [10.5295],\n",
       "        [10.5275],\n",
       "        [10.5212],\n",
       "        [10.5234],\n",
       "        [10.5223],\n",
       "        [10.5229],\n",
       "        [10.5216],\n",
       "        [10.5208],\n",
       "        [10.5262],\n",
       "        [10.5266],\n",
       "        [10.5143],\n",
       "        [10.5039],\n",
       "        [10.5078],\n",
       "        [10.5189],\n",
       "        [10.5101],\n",
       "        [10.4976],\n",
       "        [10.4541],\n",
       "        [10.5139],\n",
       "        [10.5096],\n",
       "        [10.5179],\n",
       "        [10.5202],\n",
       "        [10.5209],\n",
       "        [10.5115],\n",
       "        [10.5074],\n",
       "        [10.4990],\n",
       "        [10.4942],\n",
       "        [10.5101],\n",
       "        [10.5049],\n",
       "        [10.4671],\n",
       "        [10.4764],\n",
       "        [10.5207],\n",
       "        [10.5238],\n",
       "        [10.5224],\n",
       "        [10.5206],\n",
       "        [10.5242],\n",
       "        [10.5207],\n",
       "        [10.5217],\n",
       "        [10.5254],\n",
       "        [10.5233],\n",
       "        [10.5201],\n",
       "        [10.5237],\n",
       "        [10.5152],\n",
       "        [10.5119],\n",
       "        [10.5185],\n",
       "        [10.5178],\n",
       "        [10.5088],\n",
       "        [10.5027],\n",
       "        [10.4354],\n",
       "        [10.5116],\n",
       "        [10.5077],\n",
       "        [10.5208],\n",
       "        [10.5178],\n",
       "        [10.5205],\n",
       "        [10.5229],\n",
       "        [10.5194],\n",
       "        [10.5125],\n",
       "        [10.5146],\n",
       "        [10.5165],\n",
       "        [10.5200],\n",
       "        [10.5101],\n",
       "        [10.5019],\n",
       "        [10.5144],\n",
       "        [10.5055],\n",
       "        [10.5065],\n",
       "        [10.5123],\n",
       "        [10.5113],\n",
       "        [10.5152],\n",
       "        [10.5149],\n",
       "        [10.5178],\n",
       "        [10.5143],\n",
       "        [10.5207],\n",
       "        [10.5159],\n",
       "        [10.5155],\n",
       "        [10.5184],\n",
       "        [10.5199],\n",
       "        [10.5123],\n",
       "        [10.4942],\n",
       "        [10.4283],\n",
       "        [10.4994],\n",
       "        [10.5135],\n",
       "        [10.5166],\n",
       "        [10.4986],\n",
       "        [10.5007],\n",
       "        [10.4978],\n",
       "        [10.4658],\n",
       "        [10.3905],\n",
       "        [ 9.2481],\n",
       "        [ 9.2232],\n",
       "        [ 9.0133],\n",
       "        [ 8.9544],\n",
       "        [ 8.9618],\n",
       "        [ 8.9403],\n",
       "        [ 8.9870],\n",
       "        [ 9.2199],\n",
       "        [ 9.2885],\n",
       "        [ 9.0644],\n",
       "        [ 9.1069],\n",
       "        [ 9.1479],\n",
       "        [ 9.9343],\n",
       "        [10.1894],\n",
       "        [10.3385],\n",
       "        [10.3775],\n",
       "        [10.3566],\n",
       "        [10.3880],\n",
       "        [10.5150],\n",
       "        [10.5143],\n",
       "        [10.5178],\n",
       "        [10.5127],\n",
       "        [10.4534],\n",
       "        [10.5140],\n",
       "        [10.5206],\n",
       "        [10.5249],\n",
       "        [10.5248],\n",
       "        [10.5197],\n",
       "        [10.5170],\n",
       "        [10.5124],\n",
       "        [10.4953],\n",
       "        [10.4904],\n",
       "        [10.4815],\n",
       "        [10.4515],\n",
       "        [10.4792],\n",
       "        [10.4593],\n",
       "        [10.4707],\n",
       "        [10.4842],\n",
       "        [10.4784],\n",
       "        [10.4650],\n",
       "        [10.4928],\n",
       "        [10.4831],\n",
       "        [10.5030],\n",
       "        [10.5076],\n",
       "        [10.5083],\n",
       "        [10.5027],\n",
       "        [10.5073],\n",
       "        [10.5031],\n",
       "        [10.5052],\n",
       "        [10.5215],\n",
       "        [10.5111],\n",
       "        [10.5103],\n",
       "        [10.5034],\n",
       "        [10.4214],\n",
       "        [10.5017],\n",
       "        [10.5173],\n",
       "        [10.5035],\n",
       "        [10.5110],\n",
       "        [10.5135],\n",
       "        [10.5063],\n",
       "        [10.5078],\n",
       "        [10.4792],\n",
       "        [10.4794],\n",
       "        [10.5073],\n",
       "        [10.5168],\n",
       "        [10.5028],\n",
       "        [10.5102],\n",
       "        [10.5187],\n",
       "        [10.5096],\n",
       "        [10.5150],\n",
       "        [10.5196],\n",
       "        [10.5182],\n",
       "        [10.5160],\n",
       "        [10.5206],\n",
       "        [10.5109],\n",
       "        [10.5144],\n",
       "        [10.5243],\n",
       "        [10.5136],\n",
       "        [10.5200],\n",
       "        [10.5207],\n",
       "        [10.5121],\n",
       "        [10.5102],\n",
       "        [10.5185],\n",
       "        [10.4419],\n",
       "        [10.5219],\n",
       "        [10.5148],\n",
       "        [10.5209],\n",
       "        [10.5191],\n",
       "        [10.5233],\n",
       "        [10.5151],\n",
       "        [10.5156],\n",
       "        [10.5156],\n",
       "        [10.5127],\n",
       "        [10.5059],\n",
       "        [10.5046],\n",
       "        [10.5156],\n",
       "        [10.5090],\n",
       "        [10.5173],\n",
       "        [10.5137],\n",
       "        [10.5126],\n",
       "        [10.4986],\n",
       "        [10.5090],\n",
       "        [10.5135],\n",
       "        [10.5025],\n",
       "        [10.5186],\n",
       "        [10.5213],\n",
       "        [10.5211],\n",
       "        [10.5115],\n",
       "        [10.5175],\n",
       "        [10.5149],\n",
       "        [10.5205],\n",
       "        [10.5226],\n",
       "        [10.5113],\n",
       "        [10.4948],\n",
       "        [10.4976],\n",
       "        [10.5181],\n",
       "        [10.5117],\n",
       "        [10.5180],\n",
       "        [10.5223],\n",
       "        [10.5202],\n",
       "        [10.5219],\n",
       "        [10.5160],\n",
       "        [10.4900],\n",
       "        [10.5091],\n",
       "        [10.4600],\n",
       "        [10.4904],\n",
       "        [10.4934],\n",
       "        [10.5108],\n",
       "        [10.5057],\n",
       "        [10.5139],\n",
       "        [10.5174],\n",
       "        [10.5106],\n",
       "        [10.5188],\n",
       "        [10.5249],\n",
       "        [10.5216],\n",
       "        [10.5144],\n",
       "        [10.5186],\n",
       "        [10.5193],\n",
       "        [10.5177],\n",
       "        [10.5211],\n",
       "        [10.5173],\n",
       "        [10.5122],\n",
       "        [10.5189],\n",
       "        [10.5042],\n",
       "        [10.5034],\n",
       "        [10.5034],\n",
       "        [10.5179],\n",
       "        [10.5182],\n",
       "        [10.5224],\n",
       "        [10.5217],\n",
       "        [10.5215],\n",
       "        [10.5254],\n",
       "        [10.5177],\n",
       "        [10.5250],\n",
       "        [10.5272],\n",
       "        [10.5242],\n",
       "        [10.5189],\n",
       "        [10.5217],\n",
       "        [10.5238],\n",
       "        [10.5232],\n",
       "        [10.5246],\n",
       "        [10.5233],\n",
       "        [10.5222],\n",
       "        [10.5136],\n",
       "        [10.5153],\n",
       "        [10.5227],\n",
       "        [10.5188],\n",
       "        [10.5186],\n",
       "        [10.5175],\n",
       "        [10.5199],\n",
       "        [10.5065],\n",
       "        [10.5101],\n",
       "        [10.4800],\n",
       "        [10.5071],\n",
       "        [10.4993],\n",
       "        [10.4584],\n",
       "        [10.5024],\n",
       "        [10.5124],\n",
       "        [10.5035],\n",
       "        [10.4938],\n",
       "        [10.4850],\n",
       "        [10.5051],\n",
       "        [10.4906],\n",
       "        [10.4889],\n",
       "        [10.4117],\n",
       "        [10.4460],\n",
       "        [10.4591],\n",
       "        [10.4734],\n",
       "        [10.5137],\n",
       "        [10.5228],\n",
       "        [10.5229],\n",
       "        [10.5219],\n",
       "        [10.5253],\n",
       "        [10.5248],\n",
       "        [10.5196],\n",
       "        [10.5219],\n",
       "        [10.5246],\n",
       "        [10.5205],\n",
       "        [10.5105],\n",
       "        [10.5128],\n",
       "        [10.5074],\n",
       "        [10.4783],\n",
       "        [10.5016],\n",
       "        [10.5036],\n",
       "        [10.4672],\n",
       "        [10.5072],\n",
       "        [10.5081],\n",
       "        [10.5176],\n",
       "        [10.5217],\n",
       "        [10.5154],\n",
       "        [10.5289],\n",
       "        [10.5245],\n",
       "        [10.5262],\n",
       "        [10.5242],\n",
       "        [10.5287],\n",
       "        [10.5276],\n",
       "        [10.5270],\n",
       "        [10.5282],\n",
       "        [10.5261],\n",
       "        [10.5214],\n",
       "        [10.5234],\n",
       "        [10.5250],\n",
       "        [10.5243],\n",
       "        [10.5233],\n",
       "        [10.5262],\n",
       "        [10.5272],\n",
       "        [10.5206],\n",
       "        [10.5254],\n",
       "        [10.5260],\n",
       "        [10.5178],\n",
       "        [10.5218],\n",
       "        [10.5119],\n",
       "        [10.4821],\n",
       "        [10.5142],\n",
       "        [10.5006],\n",
       "        [10.4789],\n",
       "        [10.5098],\n",
       "        [10.5213],\n",
       "        [10.4929],\n",
       "        [10.5274],\n",
       "        [10.5191],\n",
       "        [10.5252],\n",
       "        [10.5307],\n",
       "        [10.5292],\n",
       "        [10.5298],\n",
       "        [10.5314],\n",
       "        [10.5304],\n",
       "        [10.5288],\n",
       "        [10.5290],\n",
       "        [10.5287],\n",
       "        [10.5276],\n",
       "        [10.5274],\n",
       "        [10.5286],\n",
       "        [10.5273],\n",
       "        [10.5265],\n",
       "        [10.5274],\n",
       "        [10.5281],\n",
       "        [10.5240],\n",
       "        [10.5281],\n",
       "        [10.5273],\n",
       "        [10.5215],\n",
       "        [10.5178],\n",
       "        [10.5125],\n",
       "        [10.5170],\n",
       "        [10.5087],\n",
       "        [10.4975],\n",
       "        [10.5006],\n",
       "        [10.4981],\n",
       "        [10.4967],\n",
       "        [10.5136],\n",
       "        [10.4783],\n",
       "        [10.5240],\n",
       "        [10.5228],\n",
       "        [10.5192],\n",
       "        [10.5255],\n",
       "        [10.5221],\n",
       "        [10.5217],\n",
       "        [10.5272],\n",
       "        [10.5197],\n",
       "        [10.5178],\n",
       "        [10.5246],\n",
       "        [10.5275],\n",
       "        [10.5243],\n",
       "        [10.5230],\n",
       "        [10.5256],\n",
       "        [10.5233],\n",
       "        [10.5266],\n",
       "        [10.5283],\n",
       "        [10.5267],\n",
       "        [10.5184],\n",
       "        [10.5227],\n",
       "        [10.5201],\n",
       "        [10.5173],\n",
       "        [10.5074],\n",
       "        [10.5016],\n",
       "        [10.4934],\n",
       "        [10.5077],\n",
       "        [10.4981],\n",
       "        [10.5033],\n",
       "        [10.5099],\n",
       "        [10.5056],\n",
       "        [10.5272],\n",
       "        [10.5247],\n",
       "        [10.5128],\n",
       "        [10.4954],\n",
       "        [10.4773],\n",
       "        [10.4665],\n",
       "        [10.4728],\n",
       "        [10.5213],\n",
       "        [10.5182],\n",
       "        [10.5219],\n",
       "        [10.5216],\n",
       "        [10.5216],\n",
       "        [10.5200],\n",
       "        [10.5209],\n",
       "        [10.5205],\n",
       "        [10.5234],\n",
       "        [10.5172],\n",
       "        [10.5201],\n",
       "        [10.5221],\n",
       "        [10.5125],\n",
       "        [10.5207],\n",
       "        [10.5168],\n",
       "        [10.5150],\n",
       "        [10.5159],\n",
       "        [10.4808],\n",
       "        [10.4904],\n",
       "        [10.4990],\n",
       "        [10.4996],\n",
       "        [10.5153],\n",
       "        [10.5005],\n",
       "        [10.5043],\n",
       "        [10.5270],\n",
       "        [10.5271],\n",
       "        [10.5236],\n",
       "        [10.5169],\n",
       "        [10.5230],\n",
       "        [10.5161],\n",
       "        [10.5095],\n",
       "        [10.5147],\n",
       "        [10.5126],\n",
       "        [10.5018],\n",
       "        [10.5034],\n",
       "        [10.5019],\n",
       "        [10.5024],\n",
       "        [10.5007],\n",
       "        [10.5010],\n",
       "        [10.5018],\n",
       "        [10.5086],\n",
       "        [10.5156],\n",
       "        [10.5083],\n",
       "        [10.5091],\n",
       "        [10.5063],\n",
       "        [10.5203],\n",
       "        [10.5194],\n",
       "        [10.5099],\n",
       "        [10.5093],\n",
       "        [10.4973],\n",
       "        [10.5052],\n",
       "        [10.5014],\n",
       "        [10.5124],\n",
       "        [10.4927],\n",
       "        [10.5018],\n",
       "        [10.5082],\n",
       "        [10.5106],\n",
       "        [10.4960],\n",
       "        [10.4931],\n",
       "        [10.4686],\n",
       "        [10.4891],\n",
       "        [10.4933],\n",
       "        [10.4964],\n",
       "        [10.4958],\n",
       "        [10.5026],\n",
       "        [10.4798],\n",
       "        [10.4813],\n",
       "        [10.4367],\n",
       "        [10.4901],\n",
       "        [10.4886],\n",
       "        [10.4081],\n",
       "        [10.4955],\n",
       "        [10.4912],\n",
       "        [10.5024],\n",
       "        [10.4927],\n",
       "        [10.5021],\n",
       "        [10.5191],\n",
       "        [10.5123],\n",
       "        [10.5054],\n",
       "        [10.5127],\n",
       "        [10.5065],\n",
       "        [10.5099],\n",
       "        [10.5212],\n",
       "        [10.5151],\n",
       "        [10.5099],\n",
       "        [10.5076],\n",
       "        [10.5082],\n",
       "        [10.5089],\n",
       "        [10.4358],\n",
       "        [10.3651],\n",
       "        [10.3285],\n",
       "        [10.5005],\n",
       "        [10.4862],\n",
       "        [10.4646],\n",
       "        [10.3934],\n",
       "        [10.4577],\n",
       "        [10.4684],\n",
       "        [10.4833],\n",
       "        [10.4720],\n",
       "        [10.4769],\n",
       "        [10.4256],\n",
       "        [10.4573],\n",
       "        [10.4678],\n",
       "        [10.4894],\n",
       "        [10.5009],\n",
       "        [10.5099],\n",
       "        [10.4961],\n",
       "        [10.5171],\n",
       "        [10.5163],\n",
       "        [10.5186],\n",
       "        [10.5110],\n",
       "        [10.5165],\n",
       "        [10.5175],\n",
       "        [10.5104],\n",
       "        [10.5201],\n",
       "        [10.5189],\n",
       "        [10.5240],\n",
       "        [10.5211],\n",
       "        [10.5171],\n",
       "        [10.4995],\n",
       "        [10.4913],\n",
       "        [10.4797],\n",
       "        [10.4757],\n",
       "        [10.4394],\n",
       "        [10.4495],\n",
       "        [10.4012],\n",
       "        [10.4046],\n",
       "        [10.4536],\n",
       "        [10.4753],\n",
       "        [10.4933],\n",
       "        [10.4815],\n",
       "        [10.4822],\n",
       "        [10.5205],\n",
       "        [10.5216],\n",
       "        [10.5017],\n",
       "        [10.5065],\n",
       "        [10.4971],\n",
       "        [10.5220],\n",
       "        [10.5195],\n",
       "        [10.5152],\n",
       "        [10.4956],\n",
       "        [10.5048],\n",
       "        [10.5018],\n",
       "        [10.5154],\n",
       "        [10.5188],\n",
       "        [10.5096],\n",
       "        [10.5022],\n",
       "        [10.5097],\n",
       "        [10.5136],\n",
       "        [10.4992],\n",
       "        [10.5159],\n",
       "        [10.5048],\n",
       "        [10.5159],\n",
       "        [10.5185],\n",
       "        [10.5135],\n",
       "        [10.5135],\n",
       "        [10.5038],\n",
       "        [10.5114],\n",
       "        [10.5039],\n",
       "        [10.5037],\n",
       "        [10.5176],\n",
       "        [10.5124],\n",
       "        [10.5165],\n",
       "        [10.5090],\n",
       "        [10.5168],\n",
       "        [10.4976],\n",
       "        [10.5112],\n",
       "        [10.5130],\n",
       "        [10.5181],\n",
       "        [10.5100],\n",
       "        [10.5070],\n",
       "        [10.5070],\n",
       "        [10.4937],\n",
       "        [10.5108],\n",
       "        [10.5175],\n",
       "        [10.5176],\n",
       "        [10.5165],\n",
       "        [10.5193],\n",
       "        [10.5069],\n",
       "        [10.5152],\n",
       "        [10.4328],\n",
       "        [10.4142],\n",
       "        [10.4735],\n",
       "        [10.5030],\n",
       "        [10.5040],\n",
       "        [10.5030],\n",
       "        [10.4937],\n",
       "        [10.4959],\n",
       "        [10.5151],\n",
       "        [10.5018],\n",
       "        [10.4552],\n",
       "        [10.4629],\n",
       "        [10.4727],\n",
       "        [10.4883],\n",
       "        [10.4782],\n",
       "        [10.4703],\n",
       "        [10.4638],\n",
       "        [10.4685],\n",
       "        [10.5147],\n",
       "        [10.5039],\n",
       "        [10.5084],\n",
       "        [10.5109],\n",
       "        [10.5101],\n",
       "        [10.5137],\n",
       "        [10.5160],\n",
       "        [10.5169],\n",
       "        [10.5281],\n",
       "        [10.5274],\n",
       "        [10.5309],\n",
       "        [10.5293],\n",
       "        [10.5299],\n",
       "        [10.5213],\n",
       "        [10.5218],\n",
       "        [10.5264],\n",
       "        [10.5138],\n",
       "        [10.5213],\n",
       "        [10.5299],\n",
       "        [10.5286],\n",
       "        [10.5191],\n",
       "        [10.5203],\n",
       "        [10.5262],\n",
       "        [10.5247],\n",
       "        [10.5242],\n",
       "        [10.5246],\n",
       "        [10.5209],\n",
       "        [10.5167],\n",
       "        [10.5152],\n",
       "        [10.5096],\n",
       "        [10.4958],\n",
       "        [10.5107],\n",
       "        [10.4389],\n",
       "        [10.5059],\n",
       "        [10.4961],\n",
       "        [10.5078],\n",
       "        [10.5067],\n",
       "        [10.5199],\n",
       "        [10.4991],\n",
       "        [10.5069],\n",
       "        [10.4773],\n",
       "        [10.5151],\n",
       "        [10.4438],\n",
       "        [10.4305],\n",
       "        [10.4511],\n",
       "        [10.4811],\n",
       "        [10.4833],\n",
       "        [10.5093],\n",
       "        [10.5238],\n",
       "        [10.5311],\n",
       "        [10.5274],\n",
       "        [10.5305],\n",
       "        [10.5266],\n",
       "        [10.5306],\n",
       "        [10.5257],\n",
       "        [10.5233],\n",
       "        [10.5245],\n",
       "        [10.5257],\n",
       "        [10.5147],\n",
       "        [10.5250],\n",
       "        [10.5091],\n",
       "        [10.5203],\n",
       "        [10.5089],\n",
       "        [10.4902],\n",
       "        [10.4872],\n",
       "        [10.5114],\n",
       "        [10.5009],\n",
       "        [10.5203],\n",
       "        [10.4873],\n",
       "        [10.5235],\n",
       "        [10.5180],\n",
       "        [10.5268],\n",
       "        [10.5238],\n",
       "        [10.5260],\n",
       "        [10.5293],\n",
       "        [10.5267],\n",
       "        [10.5253],\n",
       "        [10.5240],\n",
       "        [10.5299],\n",
       "        [10.5252],\n",
       "        [10.5274],\n",
       "        [10.5297],\n",
       "        [10.5300],\n",
       "        [10.5237],\n",
       "        [10.5269],\n",
       "        [10.5293],\n",
       "        [10.5237],\n",
       "        [10.5265],\n",
       "        [10.5278],\n",
       "        [10.5255],\n",
       "        [10.5224],\n",
       "        [10.4466],\n",
       "        [10.5165],\n",
       "        [10.5130],\n",
       "        [10.5004],\n",
       "        [10.5062]], grad_fn=<CatBackward0>)"
      ]
     },
     "execution_count": 144,
     "metadata": {},
     "output_type": "execute_result"
    }
   ],
   "source": [
    "predictions"
   ]
  },
  {
   "cell_type": "code",
   "execution_count": 117,
   "metadata": {},
   "outputs": [
    {
     "name": "stdout",
     "output_type": "stream",
     "text": [
      "1\n"
     ]
    },
    {
     "data": {
      "text/plain": [
       "tensor([[0.0481]], grad_fn=<AddmmBackward0>)"
      ]
     },
     "execution_count": 117,
     "metadata": {},
     "output_type": "execute_result"
    }
   ],
   "source": [
    "model(batch_X.unsqueeze(1))"
   ]
  },
  {
   "cell_type": "code",
   "execution_count": 104,
   "metadata": {},
   "outputs": [
    {
     "data": {
      "text/plain": [
       "tensor([[16.1029]])"
      ]
     },
     "execution_count": 104,
     "metadata": {},
     "output_type": "execute_result"
    }
   ],
   "source": [
    "batch_y"
   ]
  }
 ],
 "metadata": {
  "kernelspec": {
   "display_name": "base",
   "language": "python",
   "name": "python3"
  },
  "language_info": {
   "codemirror_mode": {
    "name": "ipython",
    "version": 3
   },
   "file_extension": ".py",
   "mimetype": "text/x-python",
   "name": "python",
   "nbconvert_exporter": "python",
   "pygments_lexer": "ipython3",
   "version": "3.10.9"
  }
 },
 "nbformat": 4,
 "nbformat_minor": 2
}
