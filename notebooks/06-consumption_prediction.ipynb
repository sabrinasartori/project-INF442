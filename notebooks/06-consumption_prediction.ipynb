{
 "cells": [
  {
   "cell_type": "code",
   "execution_count": 1,
   "metadata": {},
   "outputs": [],
   "source": [
    "%load_ext autoreload\n",
    "%autoreload 2"
   ]
  },
  {
   "cell_type": "code",
   "execution_count": 2,
   "metadata": {},
   "outputs": [],
   "source": [
    "import os \n",
    "while 'notebooks' in os.getcwd():\n",
    "    os.chdir(\"..\")\n",
    "    \n",
    "import pandas as pd\n",
    "import matplotlib.pyplot as plt\n",
    "import numpy as np\n",
    "import seaborn as sns\n",
    "import csv\n",
    "from tqdm import tqdm\n",
    "from sklearn.cluster import KMeans\n",
    "from sklearn.decomposition import PCA\n",
    "from sklearn.svm import SVR\n",
    "from scipy import stats\n",
    "from sklearn.model_selection import TimeSeriesSplit, KFold\n",
    "\n",
    "import warnings\n",
    "warnings.filterwarnings(\"ignore\")\n",
    "from src.constants import CLEANED_HOUSEHOLD_POWER_PATH, CLEANED_WEATHER_PATH, \\\n",
    "    HOUSEHOLD_WEATHER_MERGED_PATH"
   ]
  },
  {
   "cell_type": "markdown",
   "metadata": {},
   "source": [
    "## Hourly distribution"
   ]
  },
  {
   "cell_type": "code",
   "execution_count": 3,
   "metadata": {},
   "outputs": [
    {
     "data": {
      "text/html": [
       "<div>\n",
       "<style scoped>\n",
       "    .dataframe tbody tr th:only-of-type {\n",
       "        vertical-align: middle;\n",
       "    }\n",
       "\n",
       "    .dataframe tbody tr th {\n",
       "        vertical-align: top;\n",
       "    }\n",
       "\n",
       "    .dataframe thead th {\n",
       "        text-align: right;\n",
       "    }\n",
       "</style>\n",
       "<table border=\"1\" class=\"dataframe\">\n",
       "  <thead>\n",
       "    <tr style=\"text-align: right;\">\n",
       "      <th></th>\n",
       "      <th>global_active_power</th>\n",
       "      <th>global_reactive_power</th>\n",
       "      <th>voltage</th>\n",
       "      <th>global_intensity</th>\n",
       "      <th>sub_metering_1</th>\n",
       "      <th>sub_metering_2</th>\n",
       "      <th>sub_metering_3</th>\n",
       "      <th>numer_sta</th>\n",
       "      <th>pmer</th>\n",
       "      <th>tend</th>\n",
       "      <th>...</th>\n",
       "      <th>phenspe1</th>\n",
       "      <th>phenspe2</th>\n",
       "      <th>phenspe3</th>\n",
       "      <th>nnuage1</th>\n",
       "      <th>ctype1</th>\n",
       "      <th>hnuage1</th>\n",
       "      <th>Nom</th>\n",
       "      <th>Latitude</th>\n",
       "      <th>Longitude</th>\n",
       "      <th>Altitude</th>\n",
       "    </tr>\n",
       "    <tr>\n",
       "      <th>date</th>\n",
       "      <th></th>\n",
       "      <th></th>\n",
       "      <th></th>\n",
       "      <th></th>\n",
       "      <th></th>\n",
       "      <th></th>\n",
       "      <th></th>\n",
       "      <th></th>\n",
       "      <th></th>\n",
       "      <th></th>\n",
       "      <th></th>\n",
       "      <th></th>\n",
       "      <th></th>\n",
       "      <th></th>\n",
       "      <th></th>\n",
       "      <th></th>\n",
       "      <th></th>\n",
       "      <th></th>\n",
       "      <th></th>\n",
       "      <th></th>\n",
       "      <th></th>\n",
       "    </tr>\n",
       "  </thead>\n",
       "  <tbody>\n",
       "    <tr>\n",
       "      <th>2007-01-01 00:00:00</th>\n",
       "      <td>2.580</td>\n",
       "      <td>0.136</td>\n",
       "      <td>241.97</td>\n",
       "      <td>10.6</td>\n",
       "      <td>0.0</td>\n",
       "      <td>0.0</td>\n",
       "      <td>0.0</td>\n",
       "      <td>7149.0</td>\n",
       "      <td>101960.0</td>\n",
       "      <td>-70.0</td>\n",
       "      <td>...</td>\n",
       "      <td>1017.0</td>\n",
       "      <td>710.0</td>\n",
       "      <td>1118.0</td>\n",
       "      <td>2.0</td>\n",
       "      <td>8.0</td>\n",
       "      <td>780.0</td>\n",
       "      <td>ORLY</td>\n",
       "      <td>48.716833</td>\n",
       "      <td>2.384333</td>\n",
       "      <td>89.0</td>\n",
       "    </tr>\n",
       "    <tr>\n",
       "      <th>2007-01-01 00:01:00</th>\n",
       "      <td>2.552</td>\n",
       "      <td>0.100</td>\n",
       "      <td>241.75</td>\n",
       "      <td>10.4</td>\n",
       "      <td>0.0</td>\n",
       "      <td>0.0</td>\n",
       "      <td>0.0</td>\n",
       "      <td>7149.0</td>\n",
       "      <td>101960.0</td>\n",
       "      <td>-70.0</td>\n",
       "      <td>...</td>\n",
       "      <td>1017.0</td>\n",
       "      <td>710.0</td>\n",
       "      <td>1118.0</td>\n",
       "      <td>2.0</td>\n",
       "      <td>8.0</td>\n",
       "      <td>780.0</td>\n",
       "      <td>ORLY</td>\n",
       "      <td>48.716833</td>\n",
       "      <td>2.384333</td>\n",
       "      <td>89.0</td>\n",
       "    </tr>\n",
       "    <tr>\n",
       "      <th>2007-01-01 00:02:00</th>\n",
       "      <td>2.550</td>\n",
       "      <td>0.100</td>\n",
       "      <td>241.64</td>\n",
       "      <td>10.4</td>\n",
       "      <td>0.0</td>\n",
       "      <td>0.0</td>\n",
       "      <td>0.0</td>\n",
       "      <td>7149.0</td>\n",
       "      <td>101960.0</td>\n",
       "      <td>-70.0</td>\n",
       "      <td>...</td>\n",
       "      <td>1017.0</td>\n",
       "      <td>710.0</td>\n",
       "      <td>1118.0</td>\n",
       "      <td>2.0</td>\n",
       "      <td>8.0</td>\n",
       "      <td>780.0</td>\n",
       "      <td>ORLY</td>\n",
       "      <td>48.716833</td>\n",
       "      <td>2.384333</td>\n",
       "      <td>89.0</td>\n",
       "    </tr>\n",
       "    <tr>\n",
       "      <th>2007-01-01 00:03:00</th>\n",
       "      <td>2.550</td>\n",
       "      <td>0.100</td>\n",
       "      <td>241.71</td>\n",
       "      <td>10.4</td>\n",
       "      <td>0.0</td>\n",
       "      <td>0.0</td>\n",
       "      <td>0.0</td>\n",
       "      <td>7149.0</td>\n",
       "      <td>101960.0</td>\n",
       "      <td>-70.0</td>\n",
       "      <td>...</td>\n",
       "      <td>1017.0</td>\n",
       "      <td>710.0</td>\n",
       "      <td>1118.0</td>\n",
       "      <td>2.0</td>\n",
       "      <td>8.0</td>\n",
       "      <td>780.0</td>\n",
       "      <td>ORLY</td>\n",
       "      <td>48.716833</td>\n",
       "      <td>2.384333</td>\n",
       "      <td>89.0</td>\n",
       "    </tr>\n",
       "    <tr>\n",
       "      <th>2007-01-01 00:04:00</th>\n",
       "      <td>2.554</td>\n",
       "      <td>0.100</td>\n",
       "      <td>241.98</td>\n",
       "      <td>10.4</td>\n",
       "      <td>0.0</td>\n",
       "      <td>0.0</td>\n",
       "      <td>0.0</td>\n",
       "      <td>7149.0</td>\n",
       "      <td>101960.0</td>\n",
       "      <td>-70.0</td>\n",
       "      <td>...</td>\n",
       "      <td>1017.0</td>\n",
       "      <td>710.0</td>\n",
       "      <td>1118.0</td>\n",
       "      <td>2.0</td>\n",
       "      <td>8.0</td>\n",
       "      <td>780.0</td>\n",
       "      <td>ORLY</td>\n",
       "      <td>48.716833</td>\n",
       "      <td>2.384333</td>\n",
       "      <td>89.0</td>\n",
       "    </tr>\n",
       "  </tbody>\n",
       "</table>\n",
       "<p>5 rows × 43 columns</p>\n",
       "</div>"
      ],
      "text/plain": [
       "                     global_active_power  global_reactive_power  voltage  \\\n",
       "date                                                                       \n",
       "2007-01-01 00:00:00                2.580                  0.136   241.97   \n",
       "2007-01-01 00:01:00                2.552                  0.100   241.75   \n",
       "2007-01-01 00:02:00                2.550                  0.100   241.64   \n",
       "2007-01-01 00:03:00                2.550                  0.100   241.71   \n",
       "2007-01-01 00:04:00                2.554                  0.100   241.98   \n",
       "\n",
       "                     global_intensity  sub_metering_1  sub_metering_2  \\\n",
       "date                                                                    \n",
       "2007-01-01 00:00:00              10.6             0.0             0.0   \n",
       "2007-01-01 00:01:00              10.4             0.0             0.0   \n",
       "2007-01-01 00:02:00              10.4             0.0             0.0   \n",
       "2007-01-01 00:03:00              10.4             0.0             0.0   \n",
       "2007-01-01 00:04:00              10.4             0.0             0.0   \n",
       "\n",
       "                     sub_metering_3  numer_sta      pmer  tend  ...  phenspe1  \\\n",
       "date                                                            ...             \n",
       "2007-01-01 00:00:00             0.0     7149.0  101960.0 -70.0  ...    1017.0   \n",
       "2007-01-01 00:01:00             0.0     7149.0  101960.0 -70.0  ...    1017.0   \n",
       "2007-01-01 00:02:00             0.0     7149.0  101960.0 -70.0  ...    1017.0   \n",
       "2007-01-01 00:03:00             0.0     7149.0  101960.0 -70.0  ...    1017.0   \n",
       "2007-01-01 00:04:00             0.0     7149.0  101960.0 -70.0  ...    1017.0   \n",
       "\n",
       "                     phenspe2  phenspe3  nnuage1  ctype1  hnuage1   Nom  \\\n",
       "date                                                                      \n",
       "2007-01-01 00:00:00     710.0    1118.0      2.0     8.0    780.0  ORLY   \n",
       "2007-01-01 00:01:00     710.0    1118.0      2.0     8.0    780.0  ORLY   \n",
       "2007-01-01 00:02:00     710.0    1118.0      2.0     8.0    780.0  ORLY   \n",
       "2007-01-01 00:03:00     710.0    1118.0      2.0     8.0    780.0  ORLY   \n",
       "2007-01-01 00:04:00     710.0    1118.0      2.0     8.0    780.0  ORLY   \n",
       "\n",
       "                      Latitude  Longitude  Altitude  \n",
       "date                                                 \n",
       "2007-01-01 00:00:00  48.716833   2.384333      89.0  \n",
       "2007-01-01 00:01:00  48.716833   2.384333      89.0  \n",
       "2007-01-01 00:02:00  48.716833   2.384333      89.0  \n",
       "2007-01-01 00:03:00  48.716833   2.384333      89.0  \n",
       "2007-01-01 00:04:00  48.716833   2.384333      89.0  \n",
       "\n",
       "[5 rows x 43 columns]"
      ]
     },
     "execution_count": 3,
     "metadata": {},
     "output_type": "execute_result"
    }
   ],
   "source": [
    "df = pd.read_pickle(\n",
    "    HOUSEHOLD_WEATHER_MERGED_PATH    \n",
    ")\n",
    "\n",
    "house_consumpion_columns = [\n",
    "    'global_active_power', \n",
    "    'global_reactive_power', \n",
    "    'voltage',\n",
    "    'global_intensity', \n",
    "    'sub_metering_1', \n",
    "    'sub_metering_2',\n",
    "    'sub_metering_3'\n",
    "]\n",
    "\n",
    "df.head()"
   ]
  },
  {
   "cell_type": "code",
   "execution_count": 4,
   "metadata": {},
   "outputs": [
    {
     "data": {
      "text/plain": [
       "Index(['global_active_power', 'global_reactive_power', 'voltage',\n",
       "       'global_intensity', 'sub_metering_1', 'sub_metering_2',\n",
       "       'sub_metering_3', 'numer_sta', 'pmer', 'tend', 'cod_tend', 'dd', 'ff',\n",
       "       't', 'td', 'u', 'vv', 'ww', 'w1', 'w2', 'n', 'nbas', 'hbas', 'cl', 'cm',\n",
       "       'ch', 'pres', 'rafper', 'per', 'ssfrai', 'perssfrai', 'rr1', 'rr3',\n",
       "       'phenspe1', 'phenspe2', 'phenspe3', 'nnuage1', 'ctype1', 'hnuage1',\n",
       "       'Nom', 'Latitude', 'Longitude', 'Altitude'],\n",
       "      dtype='object')"
      ]
     },
     "execution_count": 4,
     "metadata": {},
     "output_type": "execute_result"
    }
   ],
   "source": [
    "df.columns"
   ]
  },
  {
   "cell_type": "markdown",
   "metadata": {},
   "source": [
    "## Train test split"
   ]
  },
  {
   "cell_type": "code",
   "execution_count": 5,
   "metadata": {},
   "outputs": [],
   "source": [
    "train_df = df.loc[:'31-12-2009']\n",
    "test_df = df.loc['2010']\n"
   ]
  },
  {
   "cell_type": "markdown",
   "metadata": {},
   "source": [
    "### Selecting columns"
   ]
  },
  {
   "cell_type": "code",
   "execution_count": 6,
   "metadata": {},
   "outputs": [
    {
     "data": {
      "text/plain": [
       "date\n",
       "2007-01-01 00:00:00         NaN\n",
       "2007-01-01 00:01:00         NaN\n",
       "2007-01-01 00:02:00         NaN\n",
       "2007-01-01 00:03:00         NaN\n",
       "2007-01-01 00:04:00         NaN\n",
       "                         ...   \n",
       "2009-12-31 23:55:00    1.679067\n",
       "2009-12-31 23:56:00    1.678633\n",
       "2009-12-31 23:57:00    1.681633\n",
       "2009-12-31 23:58:00    1.684567\n",
       "2009-12-31 23:59:00    1.687667\n",
       "Name: global_active_power, Length: 1578240, dtype: float64"
      ]
     },
     "execution_count": 6,
     "metadata": {},
     "output_type": "execute_result"
    }
   ],
   "source": [
    "train_df.rolling(60, closed = 'left').mean()['global_active_power']"
   ]
  },
  {
   "cell_type": "code",
   "execution_count": 7,
   "metadata": {},
   "outputs": [],
   "source": [
    "train_df['last_hour_active_power'] = train_df.rolling(60, closed = 'left')\\\n",
    "    .mean()['global_active_power']"
   ]
  },
  {
   "cell_type": "code",
   "execution_count": 8,
   "metadata": {},
   "outputs": [],
   "source": [
    "\n",
    "corr = train_df.corr()"
   ]
  },
  {
   "cell_type": "code",
   "execution_count": 9,
   "metadata": {},
   "outputs": [
    {
     "data": {
      "text/plain": [
       "tend                      0.078283\n",
       "td                        0.087960\n",
       "global_reactive_power     0.230821\n",
       "sub_metering_2            0.334389\n",
       "sub_metering_1            0.346253\n",
       "voltage                   0.383935\n",
       "sub_metering_3            0.669907\n",
       "last_hour_active_power    0.783796\n",
       "global_intensity          0.997872\n",
       "global_active_power       1.000000\n",
       "Name: global_active_power, dtype: float64"
      ]
     },
     "execution_count": 9,
     "metadata": {},
     "output_type": "execute_result"
    }
   ],
   "source": [
    "abs(corr.loc['global_active_power']).sort_values().dropna().tail(10)"
   ]
  },
  {
   "cell_type": "code",
   "execution_count": 10,
   "metadata": {},
   "outputs": [
    {
     "data": {
      "image/png": "[encoded data removed]",
      "text/plain": [
       "<Figure size 800x600 with 2 Axes>"
      ]
     },
     "metadata": {},
     "output_type": "display_data"
    }
   ],
   "source": [
    "plt.figure(figsize=(8, 6))\n",
    "sns.heatmap(corr, cmap='seismic', vmin=-1, vmax=1)\n",
    "plt.title('Correlation Heatmap')\n",
    "plt.show()"
   ]
  },
  {
   "cell_type": "code",
   "execution_count": 11,
   "metadata": {},
   "outputs": [
    {
     "data": {
      "text/html": [
       "<div>\n",
       "<style scoped>\n",
       "    .dataframe tbody tr th:only-of-type {\n",
       "        vertical-align: middle;\n",
       "    }\n",
       "\n",
       "    .dataframe tbody tr th {\n",
       "        vertical-align: top;\n",
       "    }\n",
       "\n",
       "    .dataframe thead th {\n",
       "        text-align: right;\n",
       "    }\n",
       "</style>\n",
       "<table border=\"1\" class=\"dataframe\">\n",
       "  <thead>\n",
       "    <tr style=\"text-align: right;\">\n",
       "      <th></th>\n",
       "      <th>global_active_power</th>\n",
       "      <th>global_reactive_power</th>\n",
       "      <th>voltage</th>\n",
       "      <th>global_intensity</th>\n",
       "      <th>sub_metering_1</th>\n",
       "      <th>sub_metering_2</th>\n",
       "      <th>sub_metering_3</th>\n",
       "      <th>numer_sta</th>\n",
       "      <th>pmer</th>\n",
       "      <th>tend</th>\n",
       "      <th>...</th>\n",
       "      <th>phenspe2</th>\n",
       "      <th>phenspe3</th>\n",
       "      <th>nnuage1</th>\n",
       "      <th>ctype1</th>\n",
       "      <th>hnuage1</th>\n",
       "      <th>Nom</th>\n",
       "      <th>Latitude</th>\n",
       "      <th>Longitude</th>\n",
       "      <th>Altitude</th>\n",
       "      <th>last_hour_active_power</th>\n",
       "    </tr>\n",
       "    <tr>\n",
       "      <th>date</th>\n",
       "      <th></th>\n",
       "      <th></th>\n",
       "      <th></th>\n",
       "      <th></th>\n",
       "      <th></th>\n",
       "      <th></th>\n",
       "      <th></th>\n",
       "      <th></th>\n",
       "      <th></th>\n",
       "      <th></th>\n",
       "      <th></th>\n",
       "      <th></th>\n",
       "      <th></th>\n",
       "      <th></th>\n",
       "      <th></th>\n",
       "      <th></th>\n",
       "      <th></th>\n",
       "      <th></th>\n",
       "      <th></th>\n",
       "      <th></th>\n",
       "      <th></th>\n",
       "    </tr>\n",
       "  </thead>\n",
       "  <tbody>\n",
       "    <tr>\n",
       "      <th>2007-01-01 00:00:00</th>\n",
       "      <td>2.580</td>\n",
       "      <td>0.136</td>\n",
       "      <td>241.97</td>\n",
       "      <td>10.6</td>\n",
       "      <td>0.0</td>\n",
       "      <td>0.0</td>\n",
       "      <td>0.0</td>\n",
       "      <td>7149.0</td>\n",
       "      <td>101960.0</td>\n",
       "      <td>-70.0</td>\n",
       "      <td>...</td>\n",
       "      <td>710.0</td>\n",
       "      <td>1118.0</td>\n",
       "      <td>2.0</td>\n",
       "      <td>8.0</td>\n",
       "      <td>780.0</td>\n",
       "      <td>ORLY</td>\n",
       "      <td>48.716833</td>\n",
       "      <td>2.384333</td>\n",
       "      <td>89.0</td>\n",
       "      <td>NaN</td>\n",
       "    </tr>\n",
       "    <tr>\n",
       "      <th>2007-01-01 00:01:00</th>\n",
       "      <td>2.552</td>\n",
       "      <td>0.100</td>\n",
       "      <td>241.75</td>\n",
       "      <td>10.4</td>\n",
       "      <td>0.0</td>\n",
       "      <td>0.0</td>\n",
       "      <td>0.0</td>\n",
       "      <td>7149.0</td>\n",
       "      <td>101960.0</td>\n",
       "      <td>-70.0</td>\n",
       "      <td>...</td>\n",
       "      <td>710.0</td>\n",
       "      <td>1118.0</td>\n",
       "      <td>2.0</td>\n",
       "      <td>8.0</td>\n",
       "      <td>780.0</td>\n",
       "      <td>ORLY</td>\n",
       "      <td>48.716833</td>\n",
       "      <td>2.384333</td>\n",
       "      <td>89.0</td>\n",
       "      <td>NaN</td>\n",
       "    </tr>\n",
       "    <tr>\n",
       "      <th>2007-01-01 00:02:00</th>\n",
       "      <td>2.550</td>\n",
       "      <td>0.100</td>\n",
       "      <td>241.64</td>\n",
       "      <td>10.4</td>\n",
       "      <td>0.0</td>\n",
       "      <td>0.0</td>\n",
       "      <td>0.0</td>\n",
       "      <td>7149.0</td>\n",
       "      <td>101960.0</td>\n",
       "      <td>-70.0</td>\n",
       "      <td>...</td>\n",
       "      <td>710.0</td>\n",
       "      <td>1118.0</td>\n",
       "      <td>2.0</td>\n",
       "      <td>8.0</td>\n",
       "      <td>780.0</td>\n",
       "      <td>ORLY</td>\n",
       "      <td>48.716833</td>\n",
       "      <td>2.384333</td>\n",
       "      <td>89.0</td>\n",
       "      <td>NaN</td>\n",
       "    </tr>\n",
       "    <tr>\n",
       "      <th>2007-01-01 00:03:00</th>\n",
       "      <td>2.550</td>\n",
       "      <td>0.100</td>\n",
       "      <td>241.71</td>\n",
       "      <td>10.4</td>\n",
       "      <td>0.0</td>\n",
       "      <td>0.0</td>\n",
       "      <td>0.0</td>\n",
       "      <td>7149.0</td>\n",
       "      <td>101960.0</td>\n",
       "      <td>-70.0</td>\n",
       "      <td>...</td>\n",
       "      <td>710.0</td>\n",
       "      <td>1118.0</td>\n",
       "      <td>2.0</td>\n",
       "      <td>8.0</td>\n",
       "      <td>780.0</td>\n",
       "      <td>ORLY</td>\n",
       "      <td>48.716833</td>\n",
       "      <td>2.384333</td>\n",
       "      <td>89.0</td>\n",
       "      <td>NaN</td>\n",
       "    </tr>\n",
       "    <tr>\n",
       "      <th>2007-01-01 00:04:00</th>\n",
       "      <td>2.554</td>\n",
       "      <td>0.100</td>\n",
       "      <td>241.98</td>\n",
       "      <td>10.4</td>\n",
       "      <td>0.0</td>\n",
       "      <td>0.0</td>\n",
       "      <td>0.0</td>\n",
       "      <td>7149.0</td>\n",
       "      <td>101960.0</td>\n",
       "      <td>-70.0</td>\n",
       "      <td>...</td>\n",
       "      <td>710.0</td>\n",
       "      <td>1118.0</td>\n",
       "      <td>2.0</td>\n",
       "      <td>8.0</td>\n",
       "      <td>780.0</td>\n",
       "      <td>ORLY</td>\n",
       "      <td>48.716833</td>\n",
       "      <td>2.384333</td>\n",
       "      <td>89.0</td>\n",
       "      <td>NaN</td>\n",
       "    </tr>\n",
       "    <tr>\n",
       "      <th>...</th>\n",
       "      <td>...</td>\n",
       "      <td>...</td>\n",
       "      <td>...</td>\n",
       "      <td>...</td>\n",
       "      <td>...</td>\n",
       "      <td>...</td>\n",
       "      <td>...</td>\n",
       "      <td>...</td>\n",
       "      <td>...</td>\n",
       "      <td>...</td>\n",
       "      <td>...</td>\n",
       "      <td>...</td>\n",
       "      <td>...</td>\n",
       "      <td>...</td>\n",
       "      <td>...</td>\n",
       "      <td>...</td>\n",
       "      <td>...</td>\n",
       "      <td>...</td>\n",
       "      <td>...</td>\n",
       "      <td>...</td>\n",
       "      <td>...</td>\n",
       "    </tr>\n",
       "    <tr>\n",
       "      <th>2009-12-31 23:55:00</th>\n",
       "      <td>1.746</td>\n",
       "      <td>0.158</td>\n",
       "      <td>239.95</td>\n",
       "      <td>7.2</td>\n",
       "      <td>0.0</td>\n",
       "      <td>0.0</td>\n",
       "      <td>18.0</td>\n",
       "      <td>7149.0</td>\n",
       "      <td>99540.0</td>\n",
       "      <td>10.0</td>\n",
       "      <td>...</td>\n",
       "      <td>1110.0</td>\n",
       "      <td>3100.0</td>\n",
       "      <td>4.0</td>\n",
       "      <td>7.0</td>\n",
       "      <td>90.0</td>\n",
       "      <td>ORLY</td>\n",
       "      <td>48.716833</td>\n",
       "      <td>2.384333</td>\n",
       "      <td>89.0</td>\n",
       "      <td>1.679067</td>\n",
       "    </tr>\n",
       "    <tr>\n",
       "      <th>2009-12-31 23:56:00</th>\n",
       "      <td>1.786</td>\n",
       "      <td>0.234</td>\n",
       "      <td>240.09</td>\n",
       "      <td>7.4</td>\n",
       "      <td>0.0</td>\n",
       "      <td>0.0</td>\n",
       "      <td>19.0</td>\n",
       "      <td>7149.0</td>\n",
       "      <td>99540.0</td>\n",
       "      <td>10.0</td>\n",
       "      <td>...</td>\n",
       "      <td>1110.0</td>\n",
       "      <td>3100.0</td>\n",
       "      <td>4.0</td>\n",
       "      <td>7.0</td>\n",
       "      <td>90.0</td>\n",
       "      <td>ORLY</td>\n",
       "      <td>48.716833</td>\n",
       "      <td>2.384333</td>\n",
       "      <td>89.0</td>\n",
       "      <td>1.678633</td>\n",
       "    </tr>\n",
       "    <tr>\n",
       "      <th>2009-12-31 23:57:00</th>\n",
       "      <td>1.784</td>\n",
       "      <td>0.232</td>\n",
       "      <td>239.99</td>\n",
       "      <td>7.4</td>\n",
       "      <td>0.0</td>\n",
       "      <td>0.0</td>\n",
       "      <td>18.0</td>\n",
       "      <td>7149.0</td>\n",
       "      <td>99540.0</td>\n",
       "      <td>10.0</td>\n",
       "      <td>...</td>\n",
       "      <td>1110.0</td>\n",
       "      <td>3100.0</td>\n",
       "      <td>4.0</td>\n",
       "      <td>7.0</td>\n",
       "      <td>90.0</td>\n",
       "      <td>ORLY</td>\n",
       "      <td>48.716833</td>\n",
       "      <td>2.384333</td>\n",
       "      <td>89.0</td>\n",
       "      <td>1.681633</td>\n",
       "    </tr>\n",
       "    <tr>\n",
       "      <th>2009-12-31 23:58:00</th>\n",
       "      <td>1.792</td>\n",
       "      <td>0.236</td>\n",
       "      <td>240.62</td>\n",
       "      <td>7.4</td>\n",
       "      <td>0.0</td>\n",
       "      <td>0.0</td>\n",
       "      <td>18.0</td>\n",
       "      <td>7149.0</td>\n",
       "      <td>99540.0</td>\n",
       "      <td>10.0</td>\n",
       "      <td>...</td>\n",
       "      <td>1110.0</td>\n",
       "      <td>3100.0</td>\n",
       "      <td>4.0</td>\n",
       "      <td>7.0</td>\n",
       "      <td>90.0</td>\n",
       "      <td>ORLY</td>\n",
       "      <td>48.716833</td>\n",
       "      <td>2.384333</td>\n",
       "      <td>89.0</td>\n",
       "      <td>1.684567</td>\n",
       "    </tr>\n",
       "    <tr>\n",
       "      <th>2009-12-31 23:59:00</th>\n",
       "      <td>1.792</td>\n",
       "      <td>0.238</td>\n",
       "      <td>240.82</td>\n",
       "      <td>7.4</td>\n",
       "      <td>0.0</td>\n",
       "      <td>0.0</td>\n",
       "      <td>19.0</td>\n",
       "      <td>7149.0</td>\n",
       "      <td>99540.0</td>\n",
       "      <td>10.0</td>\n",
       "      <td>...</td>\n",
       "      <td>1110.0</td>\n",
       "      <td>3100.0</td>\n",
       "      <td>4.0</td>\n",
       "      <td>7.0</td>\n",
       "      <td>90.0</td>\n",
       "      <td>ORLY</td>\n",
       "      <td>48.716833</td>\n",
       "      <td>2.384333</td>\n",
       "      <td>89.0</td>\n",
       "      <td>1.687667</td>\n",
       "    </tr>\n",
       "  </tbody>\n",
       "</table>\n",
       "<p>1578240 rows × 44 columns</p>\n",
       "</div>"
      ],
      "text/plain": [
       "                     global_active_power  global_reactive_power  voltage  \\\n",
       "date                                                                       \n",
       "2007-01-01 00:00:00                2.580                  0.136   241.97   \n",
       "2007-01-01 00:01:00                2.552                  0.100   241.75   \n",
       "2007-01-01 00:02:00                2.550                  0.100   241.64   \n",
       "2007-01-01 00:03:00                2.550                  0.100   241.71   \n",
       "2007-01-01 00:04:00                2.554                  0.100   241.98   \n",
       "...                                  ...                    ...      ...   \n",
       "2009-12-31 23:55:00                1.746                  0.158   239.95   \n",
       "2009-12-31 23:56:00                1.786                  0.234   240.09   \n",
       "2009-12-31 23:57:00                1.784                  0.232   239.99   \n",
       "2009-12-31 23:58:00                1.792                  0.236   240.62   \n",
       "2009-12-31 23:59:00                1.792                  0.238   240.82   \n",
       "\n",
       "                     global_intensity  sub_metering_1  sub_metering_2  \\\n",
       "date                                                                    \n",
       "2007-01-01 00:00:00              10.6             0.0             0.0   \n",
       "2007-01-01 00:01:00              10.4             0.0             0.0   \n",
       "2007-01-01 00:02:00              10.4             0.0             0.0   \n",
       "2007-01-01 00:03:00              10.4             0.0             0.0   \n",
       "2007-01-01 00:04:00              10.4             0.0             0.0   \n",
       "...                               ...             ...             ...   \n",
       "2009-12-31 23:55:00               7.2             0.0             0.0   \n",
       "2009-12-31 23:56:00               7.4             0.0             0.0   \n",
       "2009-12-31 23:57:00               7.4             0.0             0.0   \n",
       "2009-12-31 23:58:00               7.4             0.0             0.0   \n",
       "2009-12-31 23:59:00               7.4             0.0             0.0   \n",
       "\n",
       "                     sub_metering_3  numer_sta      pmer  tend  ...  phenspe2  \\\n",
       "date                                                            ...             \n",
       "2007-01-01 00:00:00             0.0     7149.0  101960.0 -70.0  ...     710.0   \n",
       "2007-01-01 00:01:00             0.0     7149.0  101960.0 -70.0  ...     710.0   \n",
       "2007-01-01 00:02:00             0.0     7149.0  101960.0 -70.0  ...     710.0   \n",
       "2007-01-01 00:03:00             0.0     7149.0  101960.0 -70.0  ...     710.0   \n",
       "2007-01-01 00:04:00             0.0     7149.0  101960.0 -70.0  ...     710.0   \n",
       "...                             ...        ...       ...   ...  ...       ...   \n",
       "2009-12-31 23:55:00            18.0     7149.0   99540.0  10.0  ...    1110.0   \n",
       "2009-12-31 23:56:00            19.0     7149.0   99540.0  10.0  ...    1110.0   \n",
       "2009-12-31 23:57:00            18.0     7149.0   99540.0  10.0  ...    1110.0   \n",
       "2009-12-31 23:58:00            18.0     7149.0   99540.0  10.0  ...    1110.0   \n",
       "2009-12-31 23:59:00            19.0     7149.0   99540.0  10.0  ...    1110.0   \n",
       "\n",
       "                     phenspe3  nnuage1  ctype1  hnuage1   Nom   Latitude  \\\n",
       "date                                                                       \n",
       "2007-01-01 00:00:00    1118.0      2.0     8.0    780.0  ORLY  48.716833   \n",
       "2007-01-01 00:01:00    1118.0      2.0     8.0    780.0  ORLY  48.716833   \n",
       "2007-01-01 00:02:00    1118.0      2.0     8.0    780.0  ORLY  48.716833   \n",
       "2007-01-01 00:03:00    1118.0      2.0     8.0    780.0  ORLY  48.716833   \n",
       "2007-01-01 00:04:00    1118.0      2.0     8.0    780.0  ORLY  48.716833   \n",
       "...                       ...      ...     ...      ...   ...        ...   \n",
       "2009-12-31 23:55:00    3100.0      4.0     7.0     90.0  ORLY  48.716833   \n",
       "2009-12-31 23:56:00    3100.0      4.0     7.0     90.0  ORLY  48.716833   \n",
       "2009-12-31 23:57:00    3100.0      4.0     7.0     90.0  ORLY  48.716833   \n",
       "2009-12-31 23:58:00    3100.0      4.0     7.0     90.0  ORLY  48.716833   \n",
       "2009-12-31 23:59:00    3100.0      4.0     7.0     90.0  ORLY  48.716833   \n",
       "\n",
       "                     Longitude  Altitude  last_hour_active_power  \n",
       "date                                                              \n",
       "2007-01-01 00:00:00   2.384333      89.0                     NaN  \n",
       "2007-01-01 00:01:00   2.384333      89.0                     NaN  \n",
       "2007-01-01 00:02:00   2.384333      89.0                     NaN  \n",
       "2007-01-01 00:03:00   2.384333      89.0                     NaN  \n",
       "2007-01-01 00:04:00   2.384333      89.0                     NaN  \n",
       "...                        ...       ...                     ...  \n",
       "2009-12-31 23:55:00   2.384333      89.0                1.679067  \n",
       "2009-12-31 23:56:00   2.384333      89.0                1.678633  \n",
       "2009-12-31 23:57:00   2.384333      89.0                1.681633  \n",
       "2009-12-31 23:58:00   2.384333      89.0                1.684567  \n",
       "2009-12-31 23:59:00   2.384333      89.0                1.687667  \n",
       "\n",
       "[1578240 rows x 44 columns]"
      ]
     },
     "execution_count": 11,
     "metadata": {},
     "output_type": "execute_result"
    }
   ],
   "source": [
    "train_df"
   ]
  },
  {
   "cell_type": "markdown",
   "metadata": {},
   "source": [
    "## Selecting features"
   ]
  },
  {
   "cell_type": "code",
   "execution_count": 12,
   "metadata": {},
   "outputs": [
    {
     "data": {
      "text/plain": [
       "Index(['tend', 'cod_tend', 'ff', 't', 'td', 'vv', 'w1', 'w2', 'n', 'nbas',\n",
       "       'hbas', 'cm', 'ch', 'rafper', 'perssfrai', 'ctype1', 'hnuage1',\n",
       "       'last_hour_active_power'],\n",
       "      dtype='object')"
      ]
     },
     "execution_count": 12,
     "metadata": {},
     "output_type": "execute_result"
    }
   ],
   "source": [
    "selected_columns = corr['global_active_power'].abs() > 3e-2\n",
    "selected_columns[house_consumpion_columns] = False\n",
    "selected_columns = selected_columns[selected_columns].index\n",
    "\n",
    "selected_columns"
   ]
  },
  {
   "cell_type": "markdown",
   "metadata": {},
   "source": [
    "## Optimization methods"
   ]
  },
  {
   "cell_type": "markdown",
   "metadata": {},
   "source": [
    "### Choosing model- cross validation"
   ]
  },
  {
   "cell_type": "code",
   "execution_count": 18,
   "metadata": {},
   "outputs": [],
   "source": [
    "\n",
    "train_df_total = train_df[selected_columns]\\\n",
    "    .dropna()\n",
    "\n",
    "target = df['global_active_power']\n",
    "\n",
    "intersection_idx = target.index.intersection(train_df_total.index)\n",
    "\n",
    "target = target.reindex(index = intersection_idx)\n",
    "train_df_total = train_df_total.reindex(index = intersection_idx)\n",
    "\n"
   ]
  },
  {
   "cell_type": "code",
   "execution_count": 27,
   "metadata": {},
   "outputs": [
    {
     "name": "stderr",
     "output_type": "stream",
     "text": [
      "Intel(R) Extension for Scikit-learn* enabled (https://github.com/intel/scikit-learn-intelex)\n"
     ]
    }
   ],
   "source": [
    "from typing import List\n",
    "from sklearn.base import BaseEstimator, RegressorMixin\n",
    "from sklearn.linear_model import LinearRegression, Lasso\n",
    "from sklearn.ensemble import RandomForestRegressor\n",
    "from sklearn.metrics import r2_score\n",
    "from IPython.display import clear_output\n",
    "\n",
    "from sklearnex import patch_sklearn\n",
    "patch_sklearn()"
   ]
  },
  {
   "cell_type": "code",
   "execution_count": 28,
   "metadata": {},
   "outputs": [
    {
     "name": "stdout",
     "output_type": "stream",
     "text": [
      "Running model selection for LinearRegression\n"
     ]
    },
    {
     "name": "stderr",
     "output_type": "stream",
     "text": [
      "  0%|          | 0/10 [00:00<?, ?it/s]"
     ]
    },
    {
     "name": "stderr",
     "output_type": "stream",
     "text": [
      "100%|██████████| 10/10 [00:22<00:00,  2.24s/it]\n"
     ]
    },
    {
     "name": "stdout",
     "output_type": "stream",
     "text": [
      "Running model selection for Lasso\n"
     ]
    },
    {
     "name": "stderr",
     "output_type": "stream",
     "text": [
      " 40%|████      | 4/10 [01:20<02:00, 20.10s/it]\n"
     ]
    },
    {
     "ename": "KeyboardInterrupt",
     "evalue": "",
     "output_type": "error",
     "traceback": [
      "\u001b[0;31m---------------------------------------------------------------------------\u001b[0m",
      "\u001b[0;31mKeyboardInterrupt\u001b[0m                         Traceback (most recent call last)",
      "Cell \u001b[0;32mIn[28], line 22\u001b[0m\n\u001b[1;32m     19\u001b[0m X_val \u001b[38;5;241m=\u001b[39m train_df_total\u001b[38;5;241m.\u001b[39miloc[idx_val]\n\u001b[1;32m     20\u001b[0m y_val \u001b[38;5;241m=\u001b[39m target\u001b[38;5;241m.\u001b[39miloc[idx_val]\n\u001b[0;32m---> 22\u001b[0m \u001b[43mmodel\u001b[49m\u001b[38;5;241;43m.\u001b[39;49m\u001b[43mfit\u001b[49m\u001b[43m(\u001b[49m\u001b[43mX_train\u001b[49m\u001b[43m,\u001b[49m\u001b[43m \u001b[49m\u001b[43my_train\u001b[49m\u001b[43m)\u001b[49m\n\u001b[1;32m     24\u001b[0m y_pred \u001b[38;5;241m=\u001b[39m model\u001b[38;5;241m.\u001b[39mpredict(X_val)\n\u001b[1;32m     26\u001b[0m validation_score \u001b[38;5;241m=\u001b[39m r2_score(y_val, y_pred)\n",
      "File \u001b[0;32m~/anaconda3/lib/python3.10/site-packages/sklearn/linear_model/_coordinate_descent.py:1004\u001b[0m, in \u001b[0;36mElasticNet.fit\u001b[0;34m(self, X, y, sample_weight, check_input)\u001b[0m\n\u001b[1;32m   1002\u001b[0m \u001b[38;5;28;01melse\u001b[39;00m:\n\u001b[1;32m   1003\u001b[0m     this_Xy \u001b[38;5;241m=\u001b[39m \u001b[38;5;28;01mNone\u001b[39;00m\n\u001b[0;32m-> 1004\u001b[0m _, this_coef, this_dual_gap, this_iter \u001b[38;5;241m=\u001b[39m \u001b[38;5;28;43mself\u001b[39;49m\u001b[38;5;241;43m.\u001b[39;49m\u001b[43mpath\u001b[49m\u001b[43m(\u001b[49m\n\u001b[1;32m   1005\u001b[0m \u001b[43m    \u001b[49m\u001b[43mX\u001b[49m\u001b[43m,\u001b[49m\n\u001b[1;32m   1006\u001b[0m \u001b[43m    \u001b[49m\u001b[43my\u001b[49m\u001b[43m[\u001b[49m\u001b[43m:\u001b[49m\u001b[43m,\u001b[49m\u001b[43m \u001b[49m\u001b[43mk\u001b[49m\u001b[43m]\u001b[49m\u001b[43m,\u001b[49m\n\u001b[1;32m   1007\u001b[0m \u001b[43m    \u001b[49m\u001b[43ml1_ratio\u001b[49m\u001b[38;5;241;43m=\u001b[39;49m\u001b[38;5;28;43mself\u001b[39;49m\u001b[38;5;241;43m.\u001b[39;49m\u001b[43ml1_ratio\u001b[49m\u001b[43m,\u001b[49m\n\u001b[1;32m   1008\u001b[0m \u001b[43m    \u001b[49m\u001b[43meps\u001b[49m\u001b[38;5;241;43m=\u001b[39;49m\u001b[38;5;28;43;01mNone\u001b[39;49;00m\u001b[43m,\u001b[49m\n\u001b[1;32m   1009\u001b[0m \u001b[43m    \u001b[49m\u001b[43mn_alphas\u001b[49m\u001b[38;5;241;43m=\u001b[39;49m\u001b[38;5;28;43;01mNone\u001b[39;49;00m\u001b[43m,\u001b[49m\n\u001b[1;32m   1010\u001b[0m \u001b[43m    \u001b[49m\u001b[43malphas\u001b[49m\u001b[38;5;241;43m=\u001b[39;49m\u001b[43m[\u001b[49m\u001b[43malpha\u001b[49m\u001b[43m]\u001b[49m\u001b[43m,\u001b[49m\n\u001b[1;32m   1011\u001b[0m \u001b[43m    \u001b[49m\u001b[43mprecompute\u001b[49m\u001b[38;5;241;43m=\u001b[39;49m\u001b[43mprecompute\u001b[49m\u001b[43m,\u001b[49m\n\u001b[1;32m   1012\u001b[0m \u001b[43m    \u001b[49m\u001b[43mXy\u001b[49m\u001b[38;5;241;43m=\u001b[39;49m\u001b[43mthis_Xy\u001b[49m\u001b[43m,\u001b[49m\n\u001b[1;32m   1013\u001b[0m \u001b[43m    \u001b[49m\u001b[43mcopy_X\u001b[49m\u001b[38;5;241;43m=\u001b[39;49m\u001b[38;5;28;43;01mTrue\u001b[39;49;00m\u001b[43m,\u001b[49m\n\u001b[1;32m   1014\u001b[0m \u001b[43m    \u001b[49m\u001b[43mcoef_init\u001b[49m\u001b[38;5;241;43m=\u001b[39;49m\u001b[43mcoef_\u001b[49m\u001b[43m[\u001b[49m\u001b[43mk\u001b[49m\u001b[43m]\u001b[49m\u001b[43m,\u001b[49m\n\u001b[1;32m   1015\u001b[0m \u001b[43m    \u001b[49m\u001b[43mverbose\u001b[49m\u001b[38;5;241;43m=\u001b[39;49m\u001b[38;5;28;43;01mFalse\u001b[39;49;00m\u001b[43m,\u001b[49m\n\u001b[1;32m   1016\u001b[0m \u001b[43m    \u001b[49m\u001b[43mreturn_n_iter\u001b[49m\u001b[38;5;241;43m=\u001b[39;49m\u001b[38;5;28;43;01mTrue\u001b[39;49;00m\u001b[43m,\u001b[49m\n\u001b[1;32m   1017\u001b[0m \u001b[43m    \u001b[49m\u001b[43mpositive\u001b[49m\u001b[38;5;241;43m=\u001b[39;49m\u001b[38;5;28;43mself\u001b[39;49m\u001b[38;5;241;43m.\u001b[39;49m\u001b[43mpositive\u001b[49m\u001b[43m,\u001b[49m\n\u001b[1;32m   1018\u001b[0m \u001b[43m    \u001b[49m\u001b[43mcheck_input\u001b[49m\u001b[38;5;241;43m=\u001b[39;49m\u001b[38;5;28;43;01mFalse\u001b[39;49;00m\u001b[43m,\u001b[49m\n\u001b[1;32m   1019\u001b[0m \u001b[43m    \u001b[49m\u001b[38;5;66;43;03m# from here on **params\u001b[39;49;00m\n\u001b[1;32m   1020\u001b[0m \u001b[43m    \u001b[49m\u001b[43mtol\u001b[49m\u001b[38;5;241;43m=\u001b[39;49m\u001b[38;5;28;43mself\u001b[39;49m\u001b[38;5;241;43m.\u001b[39;49m\u001b[43mtol\u001b[49m\u001b[43m,\u001b[49m\n\u001b[1;32m   1021\u001b[0m \u001b[43m    \u001b[49m\u001b[43mX_offset\u001b[49m\u001b[38;5;241;43m=\u001b[39;49m\u001b[43mX_offset\u001b[49m\u001b[43m,\u001b[49m\n\u001b[1;32m   1022\u001b[0m \u001b[43m    \u001b[49m\u001b[43mX_scale\u001b[49m\u001b[38;5;241;43m=\u001b[39;49m\u001b[43mX_scale\u001b[49m\u001b[43m,\u001b[49m\n\u001b[1;32m   1023\u001b[0m \u001b[43m    \u001b[49m\u001b[43mmax_iter\u001b[49m\u001b[38;5;241;43m=\u001b[39;49m\u001b[38;5;28;43mself\u001b[39;49m\u001b[38;5;241;43m.\u001b[39;49m\u001b[43mmax_iter\u001b[49m\u001b[43m,\u001b[49m\n\u001b[1;32m   1024\u001b[0m \u001b[43m    \u001b[49m\u001b[43mrandom_state\u001b[49m\u001b[38;5;241;43m=\u001b[39;49m\u001b[38;5;28;43mself\u001b[39;49m\u001b[38;5;241;43m.\u001b[39;49m\u001b[43mrandom_state\u001b[49m\u001b[43m,\u001b[49m\n\u001b[1;32m   1025\u001b[0m \u001b[43m    \u001b[49m\u001b[43mselection\u001b[49m\u001b[38;5;241;43m=\u001b[39;49m\u001b[38;5;28;43mself\u001b[39;49m\u001b[38;5;241;43m.\u001b[39;49m\u001b[43mselection\u001b[49m\u001b[43m,\u001b[49m\n\u001b[1;32m   1026\u001b[0m \u001b[43m    \u001b[49m\u001b[43msample_weight\u001b[49m\u001b[38;5;241;43m=\u001b[39;49m\u001b[43msample_weight\u001b[49m\u001b[43m,\u001b[49m\n\u001b[1;32m   1027\u001b[0m \u001b[43m\u001b[49m\u001b[43m)\u001b[49m\n\u001b[1;32m   1028\u001b[0m coef_[k] \u001b[38;5;241m=\u001b[39m this_coef[:, \u001b[38;5;241m0\u001b[39m]\n\u001b[1;32m   1029\u001b[0m dual_gaps_[k] \u001b[38;5;241m=\u001b[39m this_dual_gap[\u001b[38;5;241m0\u001b[39m]\n",
      "File \u001b[0;32m~/anaconda3/lib/python3.10/site-packages/sklearn/linear_model/_coordinate_descent.py:631\u001b[0m, in \u001b[0;36menet_path\u001b[0;34m(X, y, l1_ratio, eps, n_alphas, alphas, precompute, Xy, copy_X, coef_init, verbose, return_n_iter, positive, check_input, **params)\u001b[0m\n\u001b[1;32m    617\u001b[0m     model \u001b[38;5;241m=\u001b[39m cd_fast\u001b[38;5;241m.\u001b[39menet_coordinate_descent_gram(\n\u001b[1;32m    618\u001b[0m         coef_,\n\u001b[1;32m    619\u001b[0m         l1_reg,\n\u001b[0;32m   (...)\u001b[0m\n\u001b[1;32m    628\u001b[0m         positive,\n\u001b[1;32m    629\u001b[0m     )\n\u001b[1;32m    630\u001b[0m \u001b[38;5;28;01melif\u001b[39;00m precompute \u001b[38;5;129;01mis\u001b[39;00m \u001b[38;5;28;01mFalse\u001b[39;00m:\n\u001b[0;32m--> 631\u001b[0m     model \u001b[38;5;241m=\u001b[39m \u001b[43mcd_fast\u001b[49m\u001b[38;5;241;43m.\u001b[39;49m\u001b[43menet_coordinate_descent\u001b[49m\u001b[43m(\u001b[49m\n\u001b[1;32m    632\u001b[0m \u001b[43m        \u001b[49m\u001b[43mcoef_\u001b[49m\u001b[43m,\u001b[49m\u001b[43m \u001b[49m\u001b[43ml1_reg\u001b[49m\u001b[43m,\u001b[49m\u001b[43m \u001b[49m\u001b[43ml2_reg\u001b[49m\u001b[43m,\u001b[49m\u001b[43m \u001b[49m\u001b[43mX\u001b[49m\u001b[43m,\u001b[49m\u001b[43m \u001b[49m\u001b[43my\u001b[49m\u001b[43m,\u001b[49m\u001b[43m \u001b[49m\u001b[43mmax_iter\u001b[49m\u001b[43m,\u001b[49m\u001b[43m \u001b[49m\u001b[43mtol\u001b[49m\u001b[43m,\u001b[49m\u001b[43m \u001b[49m\u001b[43mrng\u001b[49m\u001b[43m,\u001b[49m\u001b[43m \u001b[49m\u001b[43mrandom\u001b[49m\u001b[43m,\u001b[49m\u001b[43m \u001b[49m\u001b[43mpositive\u001b[49m\n\u001b[1;32m    633\u001b[0m \u001b[43m    \u001b[49m\u001b[43m)\u001b[49m\n\u001b[1;32m    634\u001b[0m \u001b[38;5;28;01melse\u001b[39;00m:\n\u001b[1;32m    635\u001b[0m     \u001b[38;5;28;01mraise\u001b[39;00m \u001b[38;5;167;01mValueError\u001b[39;00m(\n\u001b[1;32m    636\u001b[0m         \u001b[38;5;124m\"\u001b[39m\u001b[38;5;124mPrecompute should be one of True, False, \u001b[39m\u001b[38;5;124m'\u001b[39m\u001b[38;5;124mauto\u001b[39m\u001b[38;5;124m'\u001b[39m\u001b[38;5;124m or array-like. Got \u001b[39m\u001b[38;5;132;01m%r\u001b[39;00m\u001b[38;5;124m\"\u001b[39m\n\u001b[1;32m    637\u001b[0m         \u001b[38;5;241m%\u001b[39m precompute\n\u001b[1;32m    638\u001b[0m     )\n",
      "\u001b[0;31mKeyboardInterrupt\u001b[0m: "
     ]
    }
   ],
   "source": [
    "\n",
    "models : List[BaseEstimator]= [LinearRegression(), Lasso(), RandomForestRegressor()]\n",
    "results = {type(x).__name__ : [] for x in models}\n",
    "n_splits =10\n",
    "splitter = splitter = KFold(n_splits)\n",
    "\n",
    "for model in models:\n",
    "\n",
    "    model_name : str = type(model).__name__\n",
    "    \n",
    "    # clear_output()\n",
    "    print(f\"Running model selection for {model_name}\")\n",
    "\n",
    "    splits = splitter.split(train_df_total)\n",
    "\n",
    "    for idx_train, idx_val in tqdm(splits, total = n_splits):\n",
    "        X_train = train_df_total.iloc[idx_train]\n",
    "        y_train = target.iloc[idx_train]\n",
    "\n",
    "        X_val = train_df_total.iloc[idx_val]\n",
    "        y_val = target.iloc[idx_val]\n",
    "\n",
    "        model.fit(X_train, y_train)\n",
    "\n",
    "        y_pred = model.predict(X_val)\n",
    "\n",
    "        validation_score = r2_score(y_val, y_pred)\n",
    "\n",
    "        results[model_name].append(validation_score)"
   ]
  },
  {
   "cell_type": "code",
   "execution_count": 22,
   "metadata": {},
   "outputs": [
    {
     "data": {
      "text/plain": [
       "{'LinearRegression': [0.6688981737845836,\n",
       "  0.572042397725967,\n",
       "  0.6385897700641946,\n",
       "  0.6495814155311757,\n",
       "  0.5707110783983891,\n",
       "  0.6173429571423004,\n",
       "  0.63400629032347,\n",
       "  0.5619457211708596,\n",
       "  0.5481833323599962,\n",
       "  0.592677914686807],\n",
       " 'Lasso': [-0.002009216138923131,\n",
       "  -0.01827855275466872,\n",
       "  0.0022825306453188032,\n",
       "  -0.019445730592723587,\n",
       "  0.0027544958782239615,\n",
       "  -0.041740403454049835,\n",
       "  -0.01607794727298284,\n",
       "  0.013660629513865263,\n",
       "  -0.048349348766205,\n",
       "  -0.012241858056760258],\n",
       " 'RandomForestRegressor': []}"
      ]
     },
     "execution_count": 22,
     "metadata": {},
     "output_type": "execute_result"
    }
   ],
   "source": [
    "results"
   ]
  },
  {
   "cell_type": "code",
   "execution_count": 86,
   "metadata": {},
   "outputs": [],
   "source": [
    "X_train.dropna(inplace=True)\n",
    "y_train = y_train.reindex(index = X_train.index)"
   ]
  },
  {
   "cell_type": "code",
   "execution_count": null,
   "metadata": {},
   "outputs": [],
   "source": []
  },
  {
   "cell_type": "code",
   "execution_count": 97,
   "metadata": {},
   "outputs": [
    {
     "data": {
      "text/html": [
       "<style>#sk-container-id-13 {color: black;background-color: white;}#sk-container-id-13 pre{padding: 0;}#sk-container-id-13 div.sk-toggleable {background-color: white;}#sk-container-id-13 label.sk-toggleable__label {cursor: pointer;display: block;width: 100%;margin-bottom: 0;padding: 0.3em;box-sizing: border-box;text-align: center;}#sk-container-id-13 label.sk-toggleable__label-arrow:before {content: \"▸\";float: left;margin-right: 0.25em;color: #696969;}#sk-container-id-13 label.sk-toggleable__label-arrow:hover:before {color: black;}#sk-container-id-13 div.sk-estimator:hover label.sk-toggleable__label-arrow:before {color: black;}#sk-container-id-13 div.sk-toggleable__content {max-height: 0;max-width: 0;overflow: hidden;text-align: left;background-color: #f0f8ff;}#sk-container-id-13 div.sk-toggleable__content pre {margin: 0.2em;color: black;border-radius: 0.25em;background-color: #f0f8ff;}#sk-container-id-13 input.sk-toggleable__control:checked~div.sk-toggleable__content {max-height: 200px;max-width: 100%;overflow: auto;}#sk-container-id-13 input.sk-toggleable__control:checked~label.sk-toggleable__label-arrow:before {content: \"▾\";}#sk-container-id-13 div.sk-estimator input.sk-toggleable__control:checked~label.sk-toggleable__label {background-color: #d4ebff;}#sk-container-id-13 div.sk-label input.sk-toggleable__control:checked~label.sk-toggleable__label {background-color: #d4ebff;}#sk-container-id-13 input.sk-hidden--visually {border: 0;clip: rect(1px 1px 1px 1px);clip: rect(1px, 1px, 1px, 1px);height: 1px;margin: -1px;overflow: hidden;padding: 0;position: absolute;width: 1px;}#sk-container-id-13 div.sk-estimator {font-family: monospace;background-color: #f0f8ff;border: 1px dotted black;border-radius: 0.25em;box-sizing: border-box;margin-bottom: 0.5em;}#sk-container-id-13 div.sk-estimator:hover {background-color: #d4ebff;}#sk-container-id-13 div.sk-parallel-item::after {content: \"\";width: 100%;border-bottom: 1px solid gray;flex-grow: 1;}#sk-container-id-13 div.sk-label:hover label.sk-toggleable__label {background-color: #d4ebff;}#sk-container-id-13 div.sk-serial::before {content: \"\";position: absolute;border-left: 1px solid gray;box-sizing: border-box;top: 0;bottom: 0;left: 50%;z-index: 0;}#sk-container-id-13 div.sk-serial {display: flex;flex-direction: column;align-items: center;background-color: white;padding-right: 0.2em;padding-left: 0.2em;position: relative;}#sk-container-id-13 div.sk-item {position: relative;z-index: 1;}#sk-container-id-13 div.sk-parallel {display: flex;align-items: stretch;justify-content: center;background-color: white;position: relative;}#sk-container-id-13 div.sk-item::before, #sk-container-id-13 div.sk-parallel-item::before {content: \"\";position: absolute;border-left: 1px solid gray;box-sizing: border-box;top: 0;bottom: 0;left: 50%;z-index: -1;}#sk-container-id-13 div.sk-parallel-item {display: flex;flex-direction: column;z-index: 1;position: relative;background-color: white;}#sk-container-id-13 div.sk-parallel-item:first-child::after {align-self: flex-end;width: 50%;}#sk-container-id-13 div.sk-parallel-item:last-child::after {align-self: flex-start;width: 50%;}#sk-container-id-13 div.sk-parallel-item:only-child::after {width: 0;}#sk-container-id-13 div.sk-dashed-wrapped {border: 1px dashed gray;margin: 0 0.4em 0.5em 0.4em;box-sizing: border-box;padding-bottom: 0.4em;background-color: white;}#sk-container-id-13 div.sk-label label {font-family: monospace;font-weight: bold;display: inline-block;line-height: 1.2em;}#sk-container-id-13 div.sk-label-container {text-align: center;}#sk-container-id-13 div.sk-container {/* jupyter's `normalize.less` sets `[hidden] { display: none; }` but bootstrap.min.css set `[hidden] { display: none !important; }` so we also need the `!important` here to be able to override the default hidden behavior on the sphinx rendered scikit-learn.org. See: https://github.com/scikit-learn/scikit-learn/issues/21755 */display: inline-block !important;position: relative;}#sk-container-id-13 div.sk-text-repr-fallback {display: none;}</style><div id=\"sk-container-id-13\" class=\"sk-top-container\"><div class=\"sk-text-repr-fallback\"><pre>RandomForestRegressor()</pre><b>In a Jupyter environment, please rerun this cell to show the HTML representation or trust the notebook. <br />On GitHub, the HTML representation is unable to render, please try loading this page with nbviewer.org.</b></div><div class=\"sk-container\" hidden><div class=\"sk-item\"><div class=\"sk-estimator sk-toggleable\"><input class=\"sk-toggleable__control sk-hidden--visually\" id=\"sk-estimator-id-13\" type=\"checkbox\" checked><label for=\"sk-estimator-id-13\" class=\"sk-toggleable__label sk-toggleable__label-arrow\">RandomForestRegressor</label><div class=\"sk-toggleable__content\"><pre>RandomForestRegressor()</pre></div></div></div></div></div>"
      ],
      "text/plain": [
       "RandomForestRegressor()"
      ]
     },
     "execution_count": 97,
     "metadata": {},
     "output_type": "execute_result"
    }
   ],
   "source": [
    "from sklearn.linear_model import LinearRegression\n",
    "regressor = LinearRegression()\n",
    "regressor.fit(X_train, y_train)\n",
    "\n",
    "\n"
   ]
  },
  {
   "cell_type": "code",
   "execution_count": 98,
   "metadata": {},
   "outputs": [],
   "source": [
    "y_pred = regressor.predict(X_val)\n",
    "y_pred = pd.Series(y_pred, index = y_val.index)"
   ]
  },
  {
   "cell_type": "code",
   "execution_count": 99,
   "metadata": {},
   "outputs": [
    {
     "data": {
      "text/plain": [
       "[<matplotlib.lines.Line2D at 0x7fe03572c340>]"
      ]
     },
     "execution_count": 99,
     "metadata": {},
     "output_type": "execute_result"
    },
    {
     "data": {
      "image/png": "[encoded data removed]",
      "text/plain": [
       "<Figure size 640x480 with 1 Axes>"
      ]
     },
     "metadata": {},
     "output_type": "display_data"
    }
   ],
   "source": [
    "plt.plot(y_pred)\n",
    "plt.plot(y_val)"
   ]
  },
  {
   "cell_type": "code",
   "execution_count": 100,
   "metadata": {},
   "outputs": [
    {
     "data": {
      "text/plain": [
       "0.3571521177248408"
      ]
     },
     "execution_count": 100,
     "metadata": {},
     "output_type": "execute_result"
    }
   ],
   "source": [
    "from sklearn.metrics import r2_score\n",
    "r2_score(y_val, y_pred)"
   ]
  },
  {
   "cell_type": "code",
   "execution_count": null,
   "metadata": {},
   "outputs": [],
   "source": []
  }
 ],
 "metadata": {
  "kernelspec": {
   "display_name": "base",
   "language": "python",
   "name": "python3"
  },
  "language_info": {
   "codemirror_mode": {
    "name": "ipython",
    "version": 3
   },
   "file_extension": ".py",
   "mimetype": "text/x-python",
   "name": "python",
   "nbconvert_exporter": "python",
   "pygments_lexer": "ipython3",
   "version": "3.10.9"
  }
 },
 "nbformat": 4,
 "nbformat_minor": 2
}
